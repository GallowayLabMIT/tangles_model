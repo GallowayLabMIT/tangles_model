{
 "cells": [
  {
   "cell_type": "code",
   "execution_count": null,
   "metadata": {},
   "outputs": [],
   "source": [
    "import seaborn as sns\n",
    "import matplotlib.pyplot as plt\n",
    "import h5py\n",
    "import pandas as pd\n",
    "import numpy as np\n",
    "\n",
    "from pathlib import Path\n",
    "import re\n",
    "\n",
    "import itertools\n",
    "sns.set_style('white')\n",
    "sns.set_context('paper',rc={'font.family': 'sans-serif', 'font.sans-serif':['Helvetica Neue']})\n",
    "\n",
    "datadir = Path(Path('datadir.txt').read_text())"
   ]
  },
  {
   "cell_type": "code",
   "execution_count": null,
   "metadata": {},
   "outputs": [],
   "source": [
    "if (datadir/'projects'/'tangles'/'simulations'/'fig1_fig2_summary.gzip').exists():\n",
    "    summary_df = pd.read_parquet(datadir/'projects'/'tangles'/'simulations'/'fig1_fig2_summary.gzip')\n",
    "    print(f'Loaded {len(summary_df)} total simulation runs from Parquet cached file')\n",
    "else:\n",
    "    summary_df = []\n",
    "    with h5py.File(\n",
    "        datadir/'projects'/'tangles'/'simulations'/'modeling_fig1_fig2_combined_summaries.h5', 'r') as summaries:\n",
    "        for group in summaries.keys():\n",
    "            group_df = []\n",
    "            for run in summaries[group].values():\n",
    "                group_df.append(pd.DataFrame(data={\n",
    "                    'inducible_mRNA': run['final_mRNA'][0,:],\n",
    "                    'constant_mRNA': run['final_mRNA'][1,:]}))\n",
    "                group_df[-1]['induction'] = run.attrs['gene.base_rate'][0]\n",
    "                group_df[-1]['condition'] = run.attrs['comment'].decode('utf-8')\n",
    "                group_df[-1]['is_plasmid'] = run.attrs['bcs.is_circular']\n",
    "                for term in [\n",
    "                    'rates.sc_dependent', 'coeff.sigma_squared',\n",
    "                    'coeff.mRNA_drag_exponent', 'coeff.mRNA_drag_coeff',\n",
    "                    'rnap.max_velocity', 'rnap.stall_torque', 'rnap.stall_width']:\n",
    "                    group_df[-1][term] = run.attrs[term]\n",
    "            summary_df.append(pd.concat(group_df, ignore_index=True))\n",
    "            print(f'Loaded {len(summary_df[-1])} simulations...')\n",
    "    summary_df = pd.concat(summary_df, ignore_index=True)\n",
    "    print(f'Loaded {len(summary_df)} total simulation runs!')\n",
    "    summary_df['condition'] = pd.Categorical(summary_df['condition'])\n",
    "    summary_df.to_parquet(datadir/'projects'/'tangles'/'simulations'/'fig1_fig2_summary.gzip', compression='gzip')"
   ]
  },
  {
   "cell_type": "markdown",
   "metadata": {},
   "source": [
    "## Figure 1\n",
    "\n",
    "### Visual description\n",
    "A 160mm x 180mm image (6.30 x 7.08 in).\n",
    "\n",
    "- **Panel A**: A cartoon of polymerases coming on and off a piece of DNA, showing the binding energy dE, accumulated supercoiling, and the key variables.\n",
    "- **Panel B**: A diagram of the key tested variables in Figure 1, including circular/linear, different orientations, and delta spacing.\n",
    "- **Panel C**: Three diagrams that show (normalized) reporter output (y-axis) vs induction (x-axis), with different plots for the different supercoiling initiation values and different curves for each orientation (constant spacing). These plots are all linear BCs.\n",
    "- **Panel D**: Two subplots which compare linear vs plasmid BCs vs different induction conditions, using one of the sc initiation panels.\n",
    "- **Panel E**: Three subplots. These are scatterplots (density plots?) of the three conditions (at full induction) that show the noise behavior of the system. Added on is a schematic reminding of the intrinsic/extrinsic noise.\n",
    "- **Panel F**: Three subplots, showing reporter output as a function of induction for three different spacing levels.\n",
    "\n",
    "### Caption"
   ]
  },
  {
   "cell_type": "markdown",
   "metadata": {},
   "source": [
    "## Supplemental Figure 1\n",
    "### Visual description\n",
    "???"
   ]
  },
  {
   "cell_type": "code",
   "execution_count": null,
   "metadata": {},
   "outputs": [],
   "source": [
    "df_1c = summary_df[\n",
    "    (\n",
    "        summary_df['is_plasmid'] == 0\n",
    "    ) & (\n",
    "        #(summary_df['condition'] == 'fig1.tandem_downstream') |\n",
    "        (summary_df['condition'] == 'fig1.tandem_upstream') |\n",
    "        (summary_df['condition'] == 'fig1.convergent') |\n",
    "        (summary_df['condition'] == 'fig1.divergent')\n",
    "    )\n",
    "].copy()\n",
    "df_1c['condition'] = df_1c['condition'].cat.remove_unused_categories()\n",
    "sns.lineplot(data=df_1c[df_1c['rates.sc_dependent'] == 0.0], x='induction', y='constant_mRNA', hue='condition', alpha=0.5)\n",
    "plt.show()\n",
    "print(df_1c[df_1c['rates.sc_dependent']==1.0]['coeff.sigma_squared'].unique())\n",
    "sns.lineplot(data=df_1c[(df_1c['rates.sc_dependent']==1.0) & (df_1c['coeff.sigma_squared']==0.001)], x='induction', y='constant_mRNA', hue='condition', alpha=0.5)\n",
    "plt.show()\n",
    "sns.lineplot(data=df_1c[(df_1c['rates.sc_dependent']==1.0) & (np.abs(df_1c['coeff.sigma_squared']-0.1) < 0.001)], x='induction', y='constant_mRNA', hue='condition', alpha=0.5)\n",
    "plt.show()"
   ]
  },
  {
   "cell_type": "code",
   "execution_count": null,
   "metadata": {},
   "outputs": [],
   "source": [
    "fig1 = plt.figure(figsize=(6.30,7.08))\n",
    "fig1_subplots = fig1.subplot_mosaic(\n",
    "    '''\n",
    "    AB\n",
    "    CD\n",
    "    EF\n",
    "    '''\n",
    ")\n",
    "\n",
    "plt.show(fig1)"
   ]
  },
  {
   "cell_type": "markdown",
   "metadata": {},
   "source": [
    "## Figure 2\n",
    "\n",
    "### Visual description\n",
    "A 160mm x 120mm image (6.30 x 4.72 in).\n",
    "\n",
    "- **Panel A**: A cartoon of polymerases coming on and off a piece of DNA, showing the binding energy dE, accumulated supercoiling, and the key variables.\n",
    "- **Panel B**: A diagram of the key tested variables in Figure 1, including circular/linear, different orientations, and delta spacing.\n",
    "- **Panel C**: Three diagrams that show (normalized) reporter output (y-axis) vs induction (x-axis), with different plots for the different supercoiling initiation values and different curves for each orientation (constant spacing). These plots are all linear BCs.\n",
    "- **Panel D**: Two subplots which compare linear vs plasmid BCs vs different induction conditions, using one of the sc initiation panels.\n",
    "- **Panel E**: Three subplots. These are scatterplots (density plots?) of the three conditions (at full induction) that show the noise behavior of the system. Added on is a schematic reminding \n",
    "\n",
    "### Caption"
   ]
  },
  {
   "cell_type": "code",
   "execution_count": null,
   "metadata": {},
   "outputs": [],
   "source": [
    "fig2 = plt.figure(figsize=)"
   ]
  }
 ],
 "metadata": {
  "interpreter": {
   "hash": "35596c0d4d50b3cf51088ffaabe9a8701552f7de3deccc6f17efae06fe0a22a4"
  },
  "kernelspec": {
   "display_name": "Python 3.9.4 64-bit ('env': venv)",
   "language": "python",
   "name": "python3"
  },
  "language_info": {
   "codemirror_mode": {
    "name": "ipython",
    "version": 3
   },
   "file_extension": ".py",
   "mimetype": "text/x-python",
   "name": "python",
   "nbconvert_exporter": "python",
   "pygments_lexer": "ipython3",
   "version": "3.9.4"
  }
 },
 "nbformat": 4,
 "nbformat_minor": 2
}
