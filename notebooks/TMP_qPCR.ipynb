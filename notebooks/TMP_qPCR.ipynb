{
 "cells": [
  {
   "cell_type": "code",
   "execution_count": null,
   "metadata": {},
   "outputs": [],
   "source": [
    "import numpy as np\r\n",
    "import matplotlib.pyplot as plt\r\n",
    "import pandas as pd\r\n",
    "import seaborn as sns\r\n",
    "import csv\r\n",
    "\r\n",
    "import plate_specification"
   ]
  },
  {
   "cell_type": "code",
   "execution_count": null,
   "metadata": {},
   "outputs": [],
   "source": [
    "mapping = plate_specification.well_mapping({\r\n",
    "    'hActB-r1': 'A1-E1',\r\n",
    "    'hActB-r2': 'A2-E2',\r\n",
    "    'hGADPH-r1': 'A3-E3',\r\n",
    "    'hGADPH-r2': 'A4-E4',\r\n",
    "    'Lenti-5p-1': 'A5-E5',\r\n",
    "    'Lenti-5p-2': 'A6-E6',\r\n",
    "    'EGFP-1': 'A7-E7',\r\n",
    "    'EGFP-2': 'A8-E8',\r\n",
    "    'interstitial-1': 'A9-E9',\r\n",
    "    'interstitial-2': 'A10-E10',\r\n",
    "    'mRuby2-1': 'A11-E11',\r\n",
    "    'mRuby2-2': 'A12-E12',\r\n",
    "    'Lenti-3p-1': 'F1-F5',\r\n",
    "    'Lenti-3p-2': 'G1-G5',\r\n",
    "    'BB-1': 'F6-F10',\r\n",
    "    'BB-2': 'G6-G10', \r\n",
    "    'none': 'H1-H3',\r\n",
    "    'water': 'A1-A12,F1-G1,F6-G6,H1-H3',\r\n",
    "    'no-plasmid': 'B1-B12,F2-G2,F7-G7',\r\n",
    "    'tandem': 'C1-C12,F3-G3,F8-G8',\r\n",
    "    'convergent': 'D1-D12,F4-G4,F9-G9',\r\n",
    "    'divergent': 'E1-E12,F5-G5,F10-G10'\r\n",
    "})"
   ]
  },
  {
   "cell_type": "code",
   "execution_count": null,
   "metadata": {},
   "outputs": [],
   "source": [
    "primerset = []\r\n",
    "sample = []\r\n",
    "cts = []\r\n",
    "with open('../data/TMP_qPCR/2021-07-16-TMP_primer_validation.txt', 'r') as ct_file:\r\n",
    "    # Ignore first line\r\n",
    "    next(ct_file)\r\n",
    "    ct_csv = csv.DictReader(ct_file, dialect='excel-tab')\r\n",
    "    for line in ct_csv:\r\n",
    "        if line['Pos'] not in mapping or len(line['Cp']) == 0:\r\n",
    "            continue\r\n",
    "        full_sample = mapping[line['Pos']]\r\n",
    "        tokenized_sample = full_sample.split('.')\r\n",
    "        primerset.append(tokenized_sample[0])\r\n",
    "        sample.append(tokenized_sample[1])\r\n",
    "        cts.append(float(line['Cp']))\r\n",
    "df = pd.DataFrame(data={'primerset':primerset, 'sample':sample, 'Ct':cts})"
   ]
  },
  {
   "cell_type": "code",
   "execution_count": null,
   "metadata": {},
   "outputs": [],
   "source": [
    "plt.figure(figsize=(20,5))\r\n",
    "sns.barplot(x='primerset', y='Ct', hue='sample', data=df)\r\n",
    "plt.savefig('../img/qPCR_controls.pdf')\r\n",
    "plt.show()"
   ]
  },
  {
   "cell_type": "code",
   "execution_count": null,
   "metadata": {},
   "outputs": [],
   "source": []
  }
 ],
 "metadata": {
  "interpreter": {
   "hash": "633f1c1c8320b313f5f886b41bd1fdc446650904a8aae9c7ea4880a02892af16"
  },
  "kernelspec": {
   "display_name": "Python 3.7.4 64-bit ('env': venv)",
   "name": "python3"
  },
  "language_info": {
   "codemirror_mode": {
    "name": "ipython",
    "version": 3
   },
   "file_extension": ".py",
   "mimetype": "text/x-python",
   "name": "python",
   "nbconvert_exporter": "python",
   "pygments_lexer": "ipython3",
   "version": "3.7.4"
  }
 },
 "nbformat": 4,
 "nbformat_minor": 2
}
