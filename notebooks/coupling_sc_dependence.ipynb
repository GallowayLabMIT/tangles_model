{
 "cells": [
  {
   "cell_type": "code",
   "execution_count": null,
   "metadata": {},
   "outputs": [],
   "source": [
    "import numpy as np\n",
    "from matplotlib import pyplot as plt\n",
    "from matplotlib.collections import LineCollection\n",
    "import pandas as pd\n",
    "import bokeh\n",
    "import bokeh.plotting\n",
    "import bokeh.palettes\n",
    "import bokeh.models\n",
    "import scipy\n",
    "from pathlib import Path\n",
    "\n",
    "import hvplot.pandas\n",
    "\n",
    "import stochastic_sc_model as ssc_model\n",
    "\n",
    "# Ensure we don't hit floating point errors\n",
    "np.seterr('raise')\n",
    "np.seterr(under='ignore')\n",
    "\n",
    "colors20 = bokeh.palettes.d3['Category20'][20]"
   ]
  },
  {
   "cell_type": "code",
   "execution_count": null,
   "metadata": {},
   "outputs": [],
   "source": [
    "# Load generated dataframes\n",
    "summary_data = pd.concat([pd.read_feather(f) for f in Path('output/dataframes').glob('worker*.feather')])\n",
    "summary_data['fano'] = summary_data['A_std']**2 / summary_data['A_mean']"
   ]
  },
  {
   "cell_type": "code",
   "execution_count": null,
   "metadata": {},
   "outputs": [],
   "source": [
    "fano_data = summary_data[(summary_data['topo_rate']==1/1200) & (summary_data['B_promoter_strength']==1) & (summary_data['spacing']==400)]"
   ]
  },
  {
   "cell_type": "code",
   "execution_count": null,
   "metadata": {},
   "outputs": [],
   "source": [
    "fano_data"
   ]
  },
  {
   "cell_type": "code",
   "execution_count": null,
   "metadata": {},
   "outputs": [],
   "source": [
    "fano_data['A_std'] ** 2 / fano_data['A_mean']"
   ]
  },
  {
   "cell_type": "code",
   "execution_count": null,
   "metadata": {},
   "outputs": [],
   "source": [
    "summary_data['topo_rate'].unique()"
   ]
  },
  {
   "cell_type": "code",
   "execution_count": null,
   "metadata": {},
   "outputs": [],
   "source": [
    "summary_data[(summary_data['geometry']=='tandem') & (summary_data['topo_rate']==1/1200)].hvplot.scatter(x='B_promoter_strength', y='A_mean', color='spacing', cmap='viridis')"
   ]
  },
  {
   "cell_type": "code",
   "execution_count": null,
   "metadata": {},
   "outputs": [],
   "source": [
    "summary_data[summary_data['B_promoter_strength']==1].hvplot.scatter(x='spacing', y='fano', by=['topo_rate'], color='geometry', subplots=True).cols(2)"
   ]
  },
  {
   "cell_type": "code",
   "execution_count": null,
   "metadata": {},
   "outputs": [],
   "source": [
    "summary_data.hvplot.scatter(x='B_promoter_strength', y='A_mean', by=['topo_rate', 'geometry'], color='spacing', cmap='viridis', subplots=True).cols(3)"
   ]
  },
  {
   "cell_type": "code",
   "execution_count": null,
   "metadata": {},
   "outputs": [],
   "source": [
    "summary_data.topo_rate"
   ]
  },
  {
   "cell_type": "code",
   "execution_count": null,
   "metadata": {},
   "outputs": [],
   "source": [
    "averaged_data = summary_data.groupby(['geometry', 'B_promoter_strength', 'spacing']).mean().reset_index()"
   ]
  },
  {
   "cell_type": "code",
   "execution_count": null,
   "metadata": {},
   "outputs": [],
   "source": [
    "simplified_data = [averaged_data[(averaged_data['geometry']==geom) & (averaged_data['spacing']==400)]\n",
    "                   for geom in ['tandem', 'divergent', 'convergent']]\n",
    "for df in simplified_data:\n",
    "    scale_factor = 1.0 / df[df['B_promoter_strength']==.01]['A_mean'].iloc[0]\n",
    "    df['A_mean'] *= scale_factor\n",
    "    df['A_std'] *= scale_factor"
   ]
  },
  {
   "cell_type": "code",
   "execution_count": null,
   "metadata": {},
   "outputs": [],
   "source": [
    "simplified_data[0]"
   ]
  },
  {
   "cell_type": "code",
   "execution_count": null,
   "metadata": {},
   "outputs": [],
   "source": [
    "tandem_line, = plt.plot(simplified_data[0]['B_promoter_strength'], simplified_data[0]['A_mean'], color='#272060', linewidth=4)\n",
    "div_line,    = plt.plot(simplified_data[1]['B_promoter_strength'], simplified_data[1]['A_mean'], color='#17b8cf', linewidth=4)\n",
    "conv_line,   = plt.plot(simplified_data[2]['B_promoter_strength'], simplified_data[2]['A_mean'], color='#ed3a38', linewidth=4)\n",
    "tandem_fill = plt.fill_between(simplified_data[0]['B_promoter_strength'],\n",
    "                                simplified_data[0]['A_mean'] - simplified_data[0]['A_std'] * .5,\n",
    "                                simplified_data[0]['A_mean'] + simplified_data[0]['A_std'] * .5,\n",
    "                                alpha=.1, color='#272060')\n",
    "div_fill    = plt.fill_between(simplified_data[1]['B_promoter_strength'],\n",
    "                                simplified_data[1]['A_mean'] - simplified_data[1]['A_std'] * .5,\n",
    "                                simplified_data[1]['A_mean'] + simplified_data[1]['A_std'] * .5,\n",
    "                                alpha=.1, color='#17b8cf')\n",
    "conv_fill   = plt.fill_between(simplified_data[2]['B_promoter_strength'],\n",
    "                                simplified_data[2]['A_mean'] - simplified_data[2]['A_std'] * .5,\n",
    "                                simplified_data[2]['A_mean'] + simplified_data[2]['A_std'] * .5,\n",
    "                                alpha=.1, color='#ed3a38')\n",
    "plt.ylabel('Reporter output')\n",
    "plt.xlabel('Induction level')\n",
    "plt.xlim([0,1])\n",
    "plt.rcParams.update({'font.family': 'Arial', 'font.size': 16})\n",
    "plt.legend([(tandem_line, tandem_fill), (div_line, div_fill), (conv_line, conv_fill)],\n",
    "           ['Tandem','Divergent','Convergent'],\n",
    "           ncol=3, loc='upper center')\n",
    "plt.tick_params(axis='both', which='both', bottom=True, top=True, labelbottom=True, right=True, left=True, labelleft=True) \n",
    "plt.savefig('reporter_behavior.svg')\n",
    "plt.show()"
   ]
  },
  {
   "cell_type": "code",
   "execution_count": null,
   "metadata": {},
   "outputs": [],
   "source": [
    "divergent_data = [averaged_data[(averaged_data['geometry']=='convergent') & (averaged_data['spacing'] == space)] for space in averaged_data['spacing'].unique()]\n",
    "scale_factor = divergent_data[0][divergent_data[0]['B_promoter_strength']==.01]['A_mean'].iloc[0]\n",
    "lines = LineCollection([np.column_stack([df['B_promoter_strength'], df['A_mean']]) for df in divergent_data], cmap='viridis')\n",
    "lines.set_array(averaged_data['spacing'].unique())\n",
    "lines.set_linewidth(4)\n",
    "plt.rcParams.update({'font.family': 'Arial', 'font.size': 16})\n",
    "fig, ax = plt.subplots()\n",
    "ax.set_ylim(.4, 12)\n",
    "ax.set_xlim(0, 1)\n",
    "line_collection = ax.add_collection(lines)\n",
    "fig.colorbar(line_collection, ax=ax, label='Δx (bp)')\n",
    "plt.ylabel('Reporter output')\n",
    "plt.xlabel('Induction level')\n",
    "ax.tick_params(axis='both', which='both', bottom=True, top=False, labelbottom=True, right=False, left=True, labelleft=True)\n",
    "fig.tight_layout()\n",
    "plt.savefig('dx.svg')"
   ]
  },
  {
   "cell_type": "code",
   "execution_count": null,
   "metadata": {},
   "outputs": [],
   "source": [
    "line_collection.get_color()"
   ]
  },
  {
   "cell_type": "code",
   "execution_count": null,
   "metadata": {},
   "outputs": [],
   "source": [
    "conv_topo_data = summary_data[(summary_data['geometry']=='convergent') & (summary_data['spacing'] == 500)]\n",
    "conv_topo_data = conv_topo_data.groupby(['topo_rate', 'B_promoter_strength']).mean().reset_index()\n",
    "topo_rates = conv_topo_data['topo_rate'].unique()\n",
    "split_topo_data = [conv_topo_data[conv_topo_data['topo_rate'] == rate] for rate in topo_rates]\n",
    "lines = LineCollection([np.column_stack([df['B_promoter_strength'], df['A_mean'] / 8.8]) for df in split_topo_data], cmap='viridis')\n",
    "lines.set_array(topo_rates / min(topo_rates))\n",
    "lines.set_linewidth(4)\n",
    "\n",
    "plt.rcParams.update({'font.family': 'Arial', 'font.size': 16})\n",
    "fig, ax = plt.subplots()\n",
    "ax.set_ylim(0, 1.1)\n",
    "ax.set_xlim(0, 1)\n",
    "line_collection = ax.add_collection(lines)\n",
    "fig.colorbar(line_collection, ax=ax, label='Relative topoisomerase activity')\n",
    "plt.ylabel('Reporter output')\n",
    "plt.xlabel('Induction level')\n",
    "ax.tick_params(axis='both', which='both', bottom=True, top=False, labelbottom=True, right=False, left=True, labelleft=True)\n",
    "fig.tight_layout()\n",
    "plt.savefig('topo_behavior.svg')\n",
    "plt.show()"
   ]
  },
  {
   "cell_type": "code",
   "execution_count": null,
   "metadata": {},
   "outputs": [],
   "source": [
    "div_topo_data = summary_data[(summary_data['geometry']=='divergent') & (summary_data['spacing'] == 500)]\n",
    "div_topo_data = div_topo_data.groupby(['topo_rate', 'B_promoter_strength']).mean().reset_index()\n",
    "topo_rates = div_topo_data['topo_rate'].unique()\n",
    "split_topo_data = [div_topo_data[div_topo_data['topo_rate'] == rate] for rate in topo_rates]\n",
    "lines = LineCollection([np.column_stack([df['B_promoter_strength'], df['A_mean'] / 8.8]) for df in split_topo_data], cmap='viridis')\n",
    "lines.set_array(topo_rates / min(topo_rates))\n",
    "lines.set_linewidth(4)\n",
    "\n",
    "plt.rcParams.update({'font.family': 'Arial', 'font.size': 16})\n",
    "fig, ax = plt.subplots()\n",
    "ax.set_ylim(0, 1.1)\n",
    "ax.set_xlim(0, 1)\n",
    "line_collection = ax.add_collection(lines)\n",
    "fig.colorbar(line_collection, ax=ax, label='Relative topoisomerase activity')\n",
    "plt.ylabel('Reporter output')\n",
    "plt.xlabel('Induction level')\n",
    "ax.tick_params(axis='both', which='both', bottom=True, top=False, labelbottom=True, right=False, left=True, labelleft=True)\n",
    "fig.tight_layout()\n",
    "plt.savefig('div_topo_behavior.svg')\n",
    "plt.show()"
   ]
  },
  {
   "cell_type": "code",
   "execution_count": null,
   "metadata": {},
   "outputs": [],
   "source": [
    "lines = LineCollection([np.column_stack([conv_topo_data[conv_topo_data['topo_rate']==rate]][])])\n",
    "conv_topo_data = summary_data[(summary_data['geometry']=='convergent') & (summary_data['spacing'] == 500)]\n",
    "tandem_line, = plt.plot(simplified_data[0]['B_promoter_strength'], simplified_data[0]['A_mean'], color='#272060', linewidth=4)\n",
    "div_line,    = plt.plot(simplified_data[1]['B_promoter_strength'], simplified_data[1]['A_mean'], color='#17b8cf', linewidth=4)\n",
    "conv_line,   = plt.plot(simplified_data[2]['B_promoter_strength'], simplified_data[2]['A_mean'], color='#ed3a38', linewidth=4)\n",
    "tandem_fill = plt.fill_between(simplified_data[0]['B_promoter_strength'],\n",
    "                                simplified_data[0]['A_mean'] - simplified_data[0]['A_std'] * .5,\n",
    "                                simplified_data[0]['A_mean'] + simplified_data[0]['A_std'] * .5,\n",
    "                                alpha=.1, color='#272060')\n",
    "div_fill    = plt.fill_between(simplified_data[1]['B_promoter_strength'],\n",
    "                                simplified_data[1]['A_mean'] - simplified_data[1]['A_std'] * .5,\n",
    "                                simplified_data[1]['A_mean'] + simplified_data[1]['A_std'] * .5,\n",
    "                                alpha=.1, color='#17b8cf')\n",
    "conv_fill   = plt.fill_between(simplified_data[2]['B_promoter_strength'],\n",
    "                                simplified_data[2]['A_mean'] - simplified_data[2]['A_std'] * .5,\n",
    "                                simplified_data[2]['A_mean'] + simplified_data[2]['A_std'] * .5,\n",
    "                                alpha=.1, color='#ed3a38')\n",
    "plt.ylabel('Reporter output')\n",
    "plt.xlabel('Induction level')\n",
    "plt.xlim([0,1])\n",
    "plt.rcParams.update({'font.family': 'Arial', 'font.size': 16})\n",
    "plt.legend([(tandem_line, tandem_fill), (div_line, div_fill), (conv_line, conv_fill)],\n",
    "           ['Tandem','Divergent','Convergent'],\n",
    "           ncol=3, loc='upper center')\n",
    "plt.tick_params(axis='both', which='both', bottom=True, top=True, labelbottom=True, right=True, left=True, labelleft=True) \n",
    "plt.savefig('reporter_behavior.svg')\n",
    "plt.show()"
   ]
  },
  {
   "cell_type": "code",
   "execution_count": null,
   "metadata": {},
   "outputs": [],
   "source": [
    "np.column_stack([divergent_data[1]['A_mean'], divergent_data[1]['B_promoter_strength']])"
   ]
  },
  {
   "cell_type": "code",
   "execution_count": null,
   "metadata": {},
   "outputs": [],
   "source": []
  },
  {
   "cell_type": "code",
   "execution_count": null,
   "metadata": {},
   "outputs": [],
   "source": [
    "summary_data.hvplot.scatter(x='A_mean', y='B_promoter_strength', color='spacing', cmap='viridis', by='geometry', subplots=True).cols(1)"
   ]
  },
  {
   "cell_type": "code",
   "execution_count": null,
   "metadata": {},
   "outputs": [],
   "source": [
    "plt.plot()"
   ]
  }
 ],
 "metadata": {
  "kernelspec": {
   "display_name": "Python 3.7.4 64-bit ('env': venv)",
   "language": "python",
   "name": "python374jvsc74a57bd0633f1c1c8320b313f5f886b41bd1fdc446650904a8aae9c7ea4880a02892af16"
  },
  "language_info": {
   "codemirror_mode": {
    "name": "ipython",
    "version": 3
   },
   "file_extension": ".py",
   "mimetype": "text/x-python",
   "name": "python",
   "nbconvert_exporter": "python",
   "pygments_lexer": "ipython3",
   "version": "3.7.4"
  }
 },
 "nbformat": 4,
 "nbformat_minor": 2
}
