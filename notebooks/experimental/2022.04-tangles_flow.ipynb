{
 "cells": [
  {
   "cell_type": "code",
   "execution_count": null,
   "metadata": {},
   "outputs": [],
   "source": [
    "import seaborn as sns\n",
    "import matplotlib.pyplot as plt\n",
    "import matplotlib\n",
    "import h5py\n",
    "import pandas as pd\n",
    "import numpy as np\n",
    "\n",
    "import rushd as rd\n",
    "\n",
    "from pathlib import Path\n",
    "import re\n",
    "\n",
    "import itertools\n",
    "sns.set_style('ticks')\n",
    "sns.set_context('talk',rc={'font.family': 'sans-serif', 'font.sans-serif':['Helvetica Neue']})"
   ]
  },
  {
   "cell_type": "code",
   "execution_count": null,
   "metadata": {},
   "outputs": [],
   "source": [
    "def dox_string_to_float(s):\n",
    "    # Handle '0'\n",
    "    if s == '0' or s == 0:\n",
    "        return 0.0\n",
    "    # Handle 10^-xxx\n",
    "    if s.startswith('10^-'):\n",
    "        return 10**(-1 * float(s[4:]))\n",
    "    raise RuntimeError(f\"Unable to convert dox string: '{s}' to float.\")"
   ]
  },
  {
   "cell_type": "code",
   "execution_count": null,
   "metadata": {},
   "outputs": [],
   "source": [
    "single_integration_df = rd.flow.load_csv_with_metadata(\n",
    "    rd.datadir/'instruments'/'data'/'attune'/'chris'/'2022.04.03-TANGLES-CRISPR'/'csv_export',\n",
    "    str(rd.datadir/'instruments'/'data'/'attune'/'chris'/'2022.04.03-TANGLES-CRISPR'/'csv_export'/'plate_layout.yaml'))\n",
    "single_integration_df = single_integration_df[\n",
    "    (single_integration_df['mRuby2-A'] > 10) &\n",
    "    (single_integration_df['eGFP-A'] > 10)\n",
    "].copy()\n",
    "single_integration_df.dox = single_integration_df.dox.map(dox_string_to_float)"
   ]
  },
  {
   "cell_type": "code",
   "execution_count": null,
   "metadata": {},
   "outputs": [],
   "source": [
    "g = sns.scatterplot(data=single_integration_df, y='mRuby2-A', x='eGFP-A', hue='condition', alpha=0.4, s=5, \n",
    "    palette={'AAVS TALEN': '#BA3815', 'Clybl TALEN': '#E07D61', 'CRISPR (iCAG)': '#84A98C', 'CRISPR (LCV2)': '#52796F', 'CRISPR (MGS7)': '#446461'},\n",
    "    hue_order=['AAVS TALEN', 'Clybl TALEN', 'CRISPR (iCAG)', 'CRISPR (LCV2)', 'CRISPR (MGS7)'])\n",
    "g.set(xscale='log', yscale='log')\n",
    "plt.ylim([1e1, 3e4])\n",
    "plt.xlim([1e1, 3e5])\n",
    "sns.despine()\n",
    "plt.gca().legend(bbox_to_anchor=(1.05,0.8))\n",
    "plt.savefig(rd.rootdir/'img'/'single_integration_dots.png', bbox_inches='tight', dpi=400)\n",
    "plt.show()\n",
    "\n",
    "for c in ['Clybl TALEN']:\n",
    "    g = sns.jointplot(\n",
    "        data=single_integration_df[\n",
    "            (single_integration_df.dox > .001) &\n",
    "            (single_integration_df.condition == c) &\n",
    "            (single_integration_df['mRuby2-A'] > 2e2) &\n",
    "            (single_integration_df['eGFP-A'] > 2e2)],\n",
    "        x='eGFP-A', y='mRuby2-A', hue='dox', log_scale=True, kind='kde', marginal_kws={'common_norm':False})\n",
    "    #plt.xlim([1e1, 3e4])\n",
    "    #plt.ylim([1e1, 3e5])\n",
    "    plt.savefig(rd.rootdir/'img'/'clybl_talen_integration_results.svg', bbox_inches='tight')\n",
    "    plt.show()"
   ]
  }
 ],
 "metadata": {
  "interpreter": {
   "hash": "633f1c1c8320b313f5f886b41bd1fdc446650904a8aae9c7ea4880a02892af16"
  },
  "kernelspec": {
   "display_name": "Python 3.7.4 64-bit ('env': venv)",
   "language": "python",
   "name": "python3"
  },
  "language_info": {
   "codemirror_mode": {
    "name": "ipython",
    "version": 3
   },
   "file_extension": ".py",
   "mimetype": "text/x-python",
   "name": "python",
   "nbconvert_exporter": "python",
   "pygments_lexer": "ipython3",
   "version": "3.9.4"
  }
 },
 "nbformat": 4,
 "nbformat_minor": 2
}
