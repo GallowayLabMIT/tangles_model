{
 "cells": [
  {
   "cell_type": "code",
   "execution_count": null,
   "metadata": {},
   "outputs": [],
   "source": [
    "import re\n",
    "\n",
    "import rushd as rd\n",
    "import pandas as pd\n",
    "import seaborn as sns\n",
    "import matplotlib\n",
    "import matplotlib.pyplot as plt\n",
    "import numpy as np\n",
    "sns.set_context('notebook',rc={'font.family': 'sans-serif', 'font.sans-serif':['Helvetica Neue']})"
   ]
  },
  {
   "cell_type": "code",
   "execution_count": null,
   "metadata": {},
   "outputs": [],
   "source": [
    "def dox_string_to_float(s):\n",
    "    # Handle '0'\n",
    "    if s == '0':\n",
    "        return 0.0\n",
    "    # Handle E-1.5 and friends\n",
    "    if s.startswith('E'):\n",
    "        return 10**float(s[1:])\n",
    "    # Handle BASEeEXP (1e-1.5)\n",
    "    e_split = s.lower().split('e')\n",
    "    if len(e_split) == 2:\n",
    "        return float(e_split[0]) * (10**float(e_split[1]))\n",
    "    raise RuntimeError(f\"Unable to convert dox string: '{s}' to float.\")\n",
    "no_yellow_viridis = matplotlib.colors.ListedColormap(matplotlib.cm.get_cmap('viridis', 256)(np.linspace(0,0.85,256)))"
   ]
  },
  {
   "cell_type": "code",
   "execution_count": null,
   "metadata": {},
   "outputs": [],
   "source": [
    "regex = re.compile(r'^export_293T\\.(?P<condition>\\d-gene(?:\\.\\w+)?)\\.(?P<dox>.*)-dox\\.(?P<rep>\\d)-rep_Single Cells')\n",
    "single_gene_df = []\n",
    "for file in (rd.datadir/'instruments'/'data'/'attune'/'chris'/'2021.05.07-T2.0-transfections'/'csv_export').glob('*.csv'):\n",
    "    match = regex.match(file.name)\n",
    "    if match is not None:\n",
    "        df = pd.read_csv(rd.infile(file))\n",
    "        df['condition'] = match['condition']\n",
    "        df['dox'] = dox_string_to_float(match['dox'])\n",
    "        df['replicate'] = int(match['rep'])\n",
    "        single_gene_df.append(df)\n",
    "single_gene_df = pd.concat(single_gene_df, ignore_index=True)\n",
    "single_gene_df = single_gene_df[(single_gene_df['eGFP-A'] > 0) & (single_gene_df['iRFP670-A'] > 3000) & (single_gene_df.dox > 0)]"
   ]
  },
  {
   "cell_type": "code",
   "execution_count": null,
   "metadata": {},
   "outputs": [],
   "source": [
    "no_yellow_viridis(cm_norm(0.03))"
   ]
  },
  {
   "cell_type": "code",
   "execution_count": null,
   "metadata": {},
   "outputs": [],
   "source": [
    "[*single_gene_df.dox.unique()]"
   ]
  },
  {
   "cell_type": "code",
   "execution_count": null,
   "metadata": {},
   "outputs": [],
   "source": [
    "cm_norm = matplotlib.colors.LogNorm(vmin=0.0003, vmax=0.316)\n",
    "g = sns.displot(data=single_gene_df, x='eGFP-A', kind='kde', hue='dox', palette=no_yellow_viridis, hue_norm=cm_norm, legend=None, log_scale=True)\n",
    "for i, dox in enumerate(sorted(single_gene_df.dox.unique())):\n",
    "    plt.text(x=0.9,y=(17-i)/20, s=f'{dox:.2e}', ha='right', fontsize=12, color=no_yellow_viridis(cm_norm(dox)), transform=plt.gca().transAxes)\n",
    "plt.text(x=0.7, y=18/20, s='Induction', transform=plt.gca().transAxes)\n",
    "plt.title('Single-gene cassettes; iRFP noise reporter gated')\n",
    "plt.savefig(rd.outfile(rd.rootdir/'img'/'single_gene_tet_induction.pdf'), bbox_inches='tight')\n",
    "plt.savefig(rd.outfile(rd.rootdir/'img'/'single_gene_tet_induction.svg'), bbox_inches='tight')\n",
    "plt.savefig(rd.outfile(rd.rootdir/'img'/'single_gene_tet_induction.png'), bbox_inches='tight')\n",
    "plt.show()"
   ]
  }
 ],
 "metadata": {
  "interpreter": {
   "hash": "633f1c1c8320b313f5f886b41bd1fdc446650904a8aae9c7ea4880a02892af16"
  },
  "kernelspec": {
   "display_name": "Python 3.7.4 ('env': venv)",
   "language": "python",
   "name": "python3"
  },
  "language_info": {
   "codemirror_mode": {
    "name": "ipython",
    "version": 3
   },
   "file_extension": ".py",
   "mimetype": "text/x-python",
   "name": "python",
   "nbconvert_exporter": "python",
   "pygments_lexer": "ipython3",
   "version": "3.7.4"
  }
 },
 "nbformat": 4,
 "nbformat_minor": 2
}
