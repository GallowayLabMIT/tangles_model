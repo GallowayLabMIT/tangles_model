{
 "cells": [
  {
   "cell_type": "code",
   "execution_count": null,
   "metadata": {},
   "outputs": [],
   "source": [
    "import stochastic_sc_model as ssc"
   ]
  },
  {
   "cell_type": "code",
   "execution_count": null,
   "metadata": {},
   "outputs": [],
   "source": [
    "genes = {\"RFP\": [2000, 2600]}\n",
    "promoter = [ssc.Promoter(ssc.PromoterType.STATIC, 1, 2000, 1)]\n",
    "pas = [ssc.PAS(ssc.PAS_Type.NO_RT, 2600, 1)]\n",
    "bcs = (ssc.BoundaryCondition.fixed(0), ssc.BoundaryCondition.fixed(4000))\n",
    "\n",
    "runner = ssc.SimulationRunner(genes, promoter, pas, bcs, (0, 1000))"
   ]
  },
  {
   "cell_type": "code",
   "execution_count": null,
   "metadata": {},
   "outputs": [],
   "source": [
    "runner.single_simulation()"
   ]
  },
  {
   "cell_type": "code",
   "execution_count": null,
   "metadata": {},
   "outputs": [],
   "source": []
  }
 ],
 "metadata": {
  "kernelspec": {
   "display_name": "Python 3",
   "name": "python3"
  },
  "language_info": {
   "codemirror_mode": {
    "name": "ipython",
    "version": 3
   },
   "file_extension": ".py",
   "mimetype": "text/x-python",
   "name": "python",
   "nbconvert_exporter": "python",
   "pygments_lexer": "ipython3",
   "version": "3.7.4-final"
  }
 },
 "nbformat": 4,
 "nbformat_minor": 2
}
