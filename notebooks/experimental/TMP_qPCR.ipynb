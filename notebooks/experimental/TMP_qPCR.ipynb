{
 "cells": [
  {
   "cell_type": "code",
   "execution_count": null,
   "metadata": {},
   "outputs": [],
   "source": [
    "import numpy as np\r\n",
    "import matplotlib.pyplot as plt\r\n",
    "import pandas as pd\r\n",
    "import seaborn as sns\r\n",
    "import csv\r\n",
    "\r\n",
    "import plate_specification"
   ]
  },
  {
   "cell_type": "code",
   "execution_count": null,
   "metadata": {},
   "outputs": [],
   "source": [
    "primer_validate_mapping = plate_specification.well_mapping({\r\n",
    "    'hActB-r1': 'A1-E1',\r\n",
    "    'hActB-r2': 'A2-E2',\r\n",
    "    'hGADPH-r1': 'A3-E3',\r\n",
    "    'hGADPH-r2': 'A4-E4',\r\n",
    "    'Lenti-5p-1': 'A5-E5',\r\n",
    "    'Lenti-5p-2': 'A6-E6',\r\n",
    "    'EGFP-1': 'A7-E7',\r\n",
    "    'EGFP-2': 'A8-E8',\r\n",
    "    'interstitial-1': 'A9-E9',\r\n",
    "    'interstitial-2': 'A10-E10',\r\n",
    "    'mRuby2-1': 'A11-E11',\r\n",
    "    'mRuby2-2': 'A12-E12',\r\n",
    "    'Lenti-3p-1': 'F1-F5',\r\n",
    "    'Lenti-3p-2': 'G1-G5',\r\n",
    "    'BB-1': 'F6-F10',\r\n",
    "    'BB-2': 'G6-G10', \r\n",
    "    'none': 'H1-H3',\r\n",
    "    'water': 'A1-A12,F1-G1,F6-G6,H1-H3',\r\n",
    "    'no-plasmid': 'B1-B12,F2-G2,F7-G7',\r\n",
    "    'tandem': 'C1-C12,F3-G3,F8-G8',\r\n",
    "    'convergent': 'D1-D12,F4-G4,F9-G9',\r\n",
    "    'divergent': 'E1-E12,F5-G5,F10-G10'\r\n",
    "})"
   ]
  },
  {
   "cell_type": "code",
   "execution_count": null,
   "metadata": {},
   "outputs": [],
   "source": [
    "def map_qPCR_data(file, mapping, token_names=['primerset', 'sample']):\r\n",
    "    tokens = [[] for _ in range(len(token_names))]\r\n",
    "    cts = []\r\n",
    "    with open(file, 'r') as ct_file:\r\n",
    "        # Ignore first line\r\n",
    "        next(ct_file)\r\n",
    "        ct_csv = csv.DictReader(ct_file, dialect='excel-tab')\r\n",
    "        for line in ct_csv:\r\n",
    "            if line['Pos'] not in mapping or len(line['Cp']) == 0:\r\n",
    "                continue\r\n",
    "            full_sample = mapping[line['Pos']]\r\n",
    "            tokenized_sample = full_sample.split('.')\r\n",
    "            while len(tokenized_sample) < len(token_names):\r\n",
    "                tokenized_sample.append('')\r\n",
    "            for id, token in enumerate(tokenized_sample):\r\n",
    "                tokens[id].append(token)\r\n",
    "            cts.append(float(line['Cp']))\r\n",
    "    data = {k:v for k,v in zip(token_names, tokens)}\r\n",
    "    data.update({'Ct':cts})\r\n",
    "    return pd.DataFrame(data=data)"
   ]
  },
  {
   "cell_type": "code",
   "execution_count": null,
   "metadata": {},
   "outputs": [],
   "source": [
    "validation_df = map_qPCR_data('../data/TMP_qPCR/2021-07-16-TMP_primer_validation.txt', primer_validate_mapping)"
   ]
  },
  {
   "cell_type": "code",
   "execution_count": null,
   "metadata": {},
   "outputs": [],
   "source": [
    "plt.figure(figsize=(20,5))\r\n",
    "sns.barplot(x='primerset', y='Ct', hue='sample', data=validation_df)\r\n",
    "plt.savefig('../img/qPCR_controls.pdf')\r\n",
    "plt.show()"
   ]
  },
  {
   "cell_type": "code",
   "execution_count": null,
   "metadata": {},
   "outputs": [],
   "source": [
    "pre_exo_mapping = plate_specification.well_mapping({\r\n",
    "    'hActB': 'A1-B12,C1-C9',\r\n",
    "    'BB-1': 'D1-E12,F1-F9,G1',\r\n",
    "    'water': 'A1,D1,G1',\r\n",
    "    'direct_PEI': 'A2,D2',\r\n",
    "    'direct_tandem': 'A3-A5,D3-D5',\r\n",
    "    'direct_convergent': 'A6,D6',\r\n",
    "    'direct_divergent': 'A7,D7',\r\n",
    "    '-UV_PEI': 'A8,D8',\r\n",
    "    'PEI': 'A9,D9',\r\n",
    "    '-UV_tandem': 'A10-A11,D10-D11',\r\n",
    "    'tandem': 'A12,B1-B5,D12,E1-E5',\r\n",
    "    '-UV_convergent': 'B6-B7,E6-E7',\r\n",
    "    'convergent': 'B8-B12,C1,E8-E12,F1',\r\n",
    "    '-UV_divergent': 'C2-C3,F2-F3',\r\n",
    "    'divergent': 'C4-C9,F4-F9',\r\n",
    "    '-dox': 'A10,A12,B1-B2,B6,B8-B10,C2,C4-C6,D10,D12,E1-E2,E6,E8-E10,F2,F4-F6',\r\n",
    "    '+dox': 'A11,B3-B5,B7,B11-B12,C1,C3,C7-C9,D11,E3-E5,E7,E11-E12,F1,F3,F7-F9',\r\n",
    "    'R1': 'A3,A10-A12,B3,B6-B8,B11,C2-C4,C7,D3,D10-D12,E3,E6-E8,E11,F2-F4,F7',\r\n",
    "    'R2': 'A4,B1,B4,B9,B12,C5,C8,D4,E1,E4,E9,E12,F5,F8',\r\n",
    "    'R3': 'A5,B2,B5,B10,C1,C6,C9,D5,E2,E5,E10,F1,F6,F9'\r\n",
    "})"
   ]
  },
  {
   "cell_type": "code",
   "execution_count": null,
   "metadata": {},
   "outputs": [],
   "source": [
    "exo_norm_df = map_qPCR_data('../data/TMP_qPCR/2021-07-22-pre_exo_normalization.txt', pre_exo_mapping, ['primerset', 'sample', 'dox', 'replicate'])\r\n",
    "exo_norm_df['condition'] = exo_norm_df['sample'] + '.' + exo_norm_df['dox'] + '.'\r\n",
    "exp_only = exo_norm_df[(exo_norm_df['sample'] != 'water') & (~exo_norm_df['condition'].str.endswith('PEI..'))]\r\n",
    "cross_df = exp_only.pivot(index=['condition','replicate'], columns='primerset', values='Ct')"
   ]
  },
  {
   "cell_type": "code",
   "execution_count": null,
   "metadata": {},
   "outputs": [],
   "source": [
    "plt.figure(figsize=(30,5))\r\n",
    "sns.scatterplot(x='condition', y='Ct', hue='primerset', data=exo_norm_df)\r\n",
    "plt.show()\r\n",
    "plt.figure(figsize=(5,5))\r\n",
    "sns.scatterplot(x='replicate', y='Ct', hue='primerset', data=exo_norm_df[exo_norm_df['condition']=='tandem.-dox.'])\r\n",
    "plt.show()\r\n",
    "plt.figure()\r\n",
    "sns.scatterplot(x='hActB', y='BB-1', data=cross_df)\r\n",
    "plt.xlabel('hActB Ct ($-\\log_2(c)$)')\r\n",
    "plt.ylabel('Backbone Ct ($-\\log_2(c)$)')\r\n",
    "plt.savefig('../img/pre_dilute_qPCR_comparison.svg')"
   ]
  },
  {
   "cell_type": "code",
   "execution_count": null,
   "metadata": {},
   "outputs": [],
   "source": [
    "cross_df['dilution_factor'] = np.exp2(cross_df['hActB']- 19.24)\r\n",
    "cross_df['uL water'] = 100.0 * (1.0 - cross_df['dilution_factor'])\r\n",
    "cross_df"
   ]
  },
  {
   "cell_type": "code",
   "execution_count": null,
   "metadata": {},
   "outputs": [],
   "source": [
    "divergent_test_mapping = plate_specification.well_mapping({\r\n",
    "    'hActB': 'B2-B10,E2-E7,H2-H10,K2-K8',\r\n",
    "    'BB-1':  'C2-C10,F2-F7,I2-I10,L2-L8',\r\n",
    "    'interstitial-1': 'D2-D10,G2-G7,J2-J10,M2-M8',\r\n",
    "    'direct-Divergent': 'B2-D4,H2-J4',\r\n",
    "    '-UV-Divergent': 'B5-D10,H5-J10',\r\n",
    "    'Divergent': 'E2-G7,K2-M7',\r\n",
    "    '-Dox': 'B2-D7,E2-G4,H2-J7,K2-M4',\r\n",
    "    '+Dox': 'B8-D10,E5-G7,H8-J10,K5-M7',\r\n",
    "    'water': 'K8-M8',\r\n",
    "    '-exo': 'B2-D10,E2-G7',\r\n",
    "    '+exo': 'H2-J10,K2-M7'\r\n",
    "})\r\n",
    "tan_con_test_mapping = plate_specification.well_mapping({\r\n",
    "    'hActB': 'A1-A24,D1-D24,G1-G24,J1-J24,M1-M12',\r\n",
    "    'BB-1': 'B1-B24,E1-E24,H1-H24,K1-K24,N1-N12',\r\n",
    "    'interstitial-1': 'C1-C24,F1-F24,I1-I24,L1-L24,O1-O12',\r\n",
    "    'direct-Tandem..': 'A1-C3,G7-I9',\r\n",
    "    '-UV-Tandem.-Dox.': 'A4-C6,G10-I12',\r\n",
    "    '-UV-Tandem.+Dox.': 'A7-C9,G13-I15',\r\n",
    "    'direct-Convergent..': 'A10-C12,G16-I18',\r\n",
    "    '-UV-Convergent.-Dox.': 'A13-C15,G19-I21',\r\n",
    "    '-UV-Convergent.+Dox.': 'A16-C18,G22-I24',\r\n",
    "    'Tandem.-Dox.1': 'A19-C21,J1-L3',\r\n",
    "    'Tandem.-Dox.2': 'A22-C24,J4-L6',\r\n",
    "    'Tandem.-Dox.3': 'D1-F3,J7-L9',\r\n",
    "    'Tandem.+Dox.1': 'D4-F6,J10-L12',\r\n",
    "    'Tandem.+Dox.2': 'D7-F9,J13-L15',\r\n",
    "    'Tandem.+Dox.3': 'D10-F12,J16-L18',\r\n",
    "    'Convergent.-Dox.1': 'D13-F15,J19-L21',\r\n",
    "    'Convergent.-Dox.2': 'D16-F18,J22-L24',\r\n",
    "    'Convergent.-Dox.3': 'D19-F21,M1-O3',\r\n",
    "    'Convergent.+Dox.1': 'D22-F24,M4-O6',\r\n",
    "    'Convergent.+Dox.2': 'G1-I3,M7-O9',\r\n",
    "    'Convergent.+Dox.3': 'G4-I6,M10-O12',\r\n",
    "    '-exo': 'A1-F24,G1-I6',\r\n",
    "    '+exo': 'G7-L24,J1-O12'\r\n",
    "})"
   ]
  },
  {
   "cell_type": "code",
   "execution_count": null,
   "metadata": {},
   "outputs": [],
   "source": [
    "div_test_data = map_qPCR_data('../data/TMP_qPCR/2021.07.16-Divergent-TMP.txt', divergent_test_mapping, ['primerset', 'sample', 'dox', 'exo'])\r\n",
    "div_test_data['full_condition'] = div_test_data['sample'] + '.' + div_test_data['dox'] + '.' + div_test_data['exo']\r\n",
    "tan_con_test_data = map_qPCR_data('../data/TMP_qPCR/2021.08.11-Tandem_Convergent.txt', tan_con_test_mapping, ['primerset', 'sample', 'dox', 'rep', 'exo'])\r\n",
    "tan_con_test_data['full_condition'] = tan_con_test_data['sample'] + '.' + tan_con_test_data['dox'] + '.' + tan_con_test_data['rep'] + tan_con_test_data['exo']"
   ]
  },
  {
   "cell_type": "code",
   "execution_count": null,
   "metadata": {},
   "outputs": [],
   "source": [
    "plt.figure(figsize=(35,5))\r\n",
    "sns.barplot(x='full_condition', y='Ct', hue='primerset', data=div_test_data)\r\n",
    "plt.show()\r\n",
    "plt.figure(figsize=(120,5))\r\n",
    "sns.barplot(x='full_condition', y='Ct', hue='primerset', data=tan_con_test_data)\r\n",
    "plt.show()"
   ]
  },
  {
   "cell_type": "code",
   "execution_count": null,
   "metadata": {},
   "outputs": [],
   "source": [
    "normed_div_data = div_test_data.copy().groupby(['sample','dox','exo','primerset']).median()\r\n",
    "average_exo_reduction = normed_div_data.xs('+exo', level='exo')['Ct'] - normed_div_data.xs('-exo', level='exo')['Ct']\r\n",
    "# Use the -exo condition with the backbone primer to normalize for plasmid concentration. Adjust all Ct's accordingly.\r\n",
    "normed_div_data['normed_Ct'] = normed_div_data['Ct'] - normed_div_data.xs('-exo', level='exo').xs('BB-1', level='primerset')['Ct']\r\n",
    "dox_changes = normed_div_data.xs('+Dox', level='dox')['normed_Ct'] - normed_div_data.xs('-Dox', level='dox')['normed_Ct']\r\n",
    "normed_div_data = normed_div_data.reset_index()\r\n",
    "normed_div_data['full_condition'] = normed_div_data['sample'] + '.' + normed_div_data['dox'] + '.' + normed_div_data['exo']\r\n",
    "print(f'Average exo fold reduction: {2**average_exo_reduction.mean():.2f}')"
   ]
  },
  {
   "cell_type": "code",
   "execution_count": null,
   "metadata": {},
   "outputs": [],
   "source": [
    "dox_changes"
   ]
  },
  {
   "cell_type": "code",
   "execution_count": null,
   "metadata": {},
   "outputs": [],
   "source": [
    "plt.figure(figsize=(35,5))\r\n",
    "sns.barplot(x='full_condition', y='normed_Ct', hue='primerset', data=normed_div_data.dropna())\r\n",
    "plt.savefig('../img/all_normed_primers.pdf')\r\n",
    "plt.show() "
   ]
  },
  {
   "cell_type": "code",
   "execution_count": null,
   "metadata": {},
   "outputs": [],
   "source": []
  },
  {
   "cell_type": "code",
   "execution_count": null,
   "metadata": {},
   "outputs": [],
   "source": [
    "plt.figure(figsize=(35,5))\r\n",
    "sns.factorplot(x='sample', y='normed_Ct', hue='dox', col='exo', data=normed_div_data[normed_div_data['primerset']=='interstitial-1'].dropna(), kind='bar')\r\n",
    "#sns.barplot(x=['sample','exo'], y='normed_Ct', hue='dox', data=normed_div_data[normed_div_data['primerset']=='interstitial-1'])\r\n",
    "plt.savefig('../img/interstitial_output.pdf')\r\n",
    "plt.show() "
   ]
  },
  {
   "cell_type": "code",
   "execution_count": null,
   "metadata": {},
   "outputs": [],
   "source": [
    "normed_orientation['rep'].map(str)"
   ]
  },
  {
   "cell_type": "code",
   "execution_count": null,
   "metadata": {},
   "outputs": [],
   "source": [
    "orientation_comparison"
   ]
  },
  {
   "cell_type": "code",
   "execution_count": null,
   "metadata": {},
   "outputs": [],
   "source": [
    "orientation_comparison = pd.concat([div_test_data,tan_con_test_data])\r\n",
    "orientation_comparison.loc[orientation_comparison['rep'].isna(), 'rep'] = 1\r\n",
    "orientation_comparison = orientation_comparison.copy().groupby(['sample', 'dox', 'rep', 'exo', 'primerset']).median()\r\n",
    "normed_orientation = orientation_comparison['Ct'] - orientation_comparison.xs('BB-1', level='primerset')['Ct']\r\n",
    "normed_orientation = normed_orientation.reset_index()\r\n",
    "normed_orientation = normed_orientation[normed_orientation['sample'].map(lambda x: x[0] in ['T', 'C', 'D'])]\r\n",
    "orientation_comparison = orientation_comparison.reset_index()\r\n",
    "orientation_comparison['samplerep'] = orientation_comparison['sample'] + '-' + orientation_comparison['rep'].map(str)\r\n",
    "normed_orientation['samplerep'] = normed_orientation['sample'] + '-' + normed_orientation['rep'].map(str)\r\n",
    "orientation_comparison = orientation_comparison[orientation_comparison['sample'].map(lambda x: x[0] in ['T', 'C', 'D'])]\r\n",
    "grid = sns.catplot(x='samplerep', y='Ct', hue='dox', hue_order=['-Dox','+Dox'], row='primerset', col='exo', height=7, aspect=1,\r\n",
    "                   data=normed_orientation[(\r\n",
    "                       normed_orientation['primerset']=='interstitial-1') &\r\n",
    "                       (normed_orientation['exo']=='+exo')], kind='bar')\r\n",
    "for axis in grid.axes.flat:\r\n",
    "    axis.set_ylabel('$\\log_2$(positive supercoiling)')\r\n",
    "plt.savefig('../img/direct_normed.svg')"
   ]
  },
  {
   "cell_type": "code",
   "execution_count": null,
   "metadata": {},
   "outputs": [],
   "source": [
    "orientation_comparison = pd.concat([div_test_data,tan_con_test_data])\r\n",
    "orientation_comparison.loc[orientation_comparison['rep'].isna(), 'rep'] = 1\r\n",
    "orientation_comparison = orientation_comparison.copy().groupby(['sample', 'dox', 'rep', 'exo', 'primerset']).median()\r\n",
    "normed_orientation = orientation_comparison['Ct'] - orientation_comparison.xs('+exo', level='exo').xs('hActB', level='primerset')['Ct']\r\n",
    "normed_orientation = normed_orientation.reset_index()\r\n",
    "normed_orientation = normed_orientation[normed_orientation['sample'].map(lambda x: x[0] in ['T', 'C', 'D'])]\r\n",
    "orientation_comparison = orientation_comparison.reset_index()\r\n",
    "orientation_comparison['samplerep'] = orientation_comparison['sample'] + '-' + orientation_comparison['rep'].map(str)\r\n",
    "normed_orientation['samplerep'] = normed_orientation['sample'] + '-' + normed_orientation['rep'].map(str)\r\n",
    "orientation_comparison = orientation_comparison[orientation_comparison['sample'].map(lambda x: x[0] in ['T', 'C', 'D'])]\r\n",
    "grid = sns.catplot(x='samplerep', y='Ct', hue='dox', hue_order=['-Dox','+Dox'], row='primerset', col='exo', height=7, aspect=1,\r\n",
    "                   data=normed_orientation[(\r\n",
    "                       normed_orientation['primerset']=='interstitial-1') &\r\n",
    "                       (normed_orientation['exo']=='+exo')], kind='bar')\r\n",
    "for axis in grid.axes.flat:\r\n",
    "    axis.set_ylabel('$\\log_2$(positive supercoiling)')\r\n",
    "plt.savefig('../img/actB_normed.svg')\r\n",
    "plt.show()"
   ]
  },
  {
   "cell_type": "code",
   "execution_count": null,
   "metadata": {},
   "outputs": [],
   "source": [
    "orientation_comparison = pd.concat([div_test_data,tan_con_test_data])\r\n",
    "orientation_comparison.loc[orientation_comparison['rep'].isna(), 'rep'] = 1\r\n",
    "orientation_comparison = orientation_comparison.copy().groupby(['sample', 'dox', 'rep', 'exo', 'primerset']).median()\r\n",
    "normed_orientation = orientation_comparison['Ct'] - orientation_comparison.xs('-exo', level='exo').xs('hActB', level='primerset')['Ct']\r\n",
    "normed_orientation = normed_orientation.reset_index()\r\n",
    "normed_orientation = normed_orientation[normed_orientation['sample'].map(lambda x: x[0] in ['T', 'C', 'D'])]\r\n",
    "orientation_comparison = orientation_comparison.reset_index()\r\n",
    "orientation_comparison['samplerep'] = orientation_comparison['sample'] + '-' + orientation_comparison['rep'].map(str)\r\n",
    "normed_orientation['samplerep'] = normed_orientation['sample'] + '-' + normed_orientation['rep'].map(str)\r\n",
    "orientation_comparison = orientation_comparison[orientation_comparison['sample'].map(lambda x: x[0] in ['T', 'C', 'D'])]\r\n",
    "grid = sns.catplot(x='samplerep', y='Ct', hue='dox', hue_order=['-Dox','+Dox'], row='primerset', col='exo', height=7, aspect=1,\r\n",
    "                   data=normed_orientation[(\r\n",
    "                       normed_orientation['primerset']=='interstitial-1') &\r\n",
    "                       (normed_orientation['exo']=='+exo')], kind='bar')\r\n",
    "for axis in grid.axes.flat:\r\n",
    "    axis.set_ylabel('$\\log_2$(positive supercoiling)')\r\n",
    "plt.savefig('../img/-exo_normed.svg')\r\n",
    "plt.show()"
   ]
  },
  {
   "cell_type": "code",
   "execution_count": null,
   "metadata": {},
   "outputs": [],
   "source": [
    "orientation_comparison"
   ]
  },
  {
   "cell_type": "code",
   "execution_count": null,
   "metadata": {},
   "outputs": [],
   "source": []
  },
  {
   "cell_type": "code",
   "execution_count": null,
   "metadata": {},
   "outputs": [],
   "source": []
  },
  {
   "cell_type": "code",
   "execution_count": null,
   "metadata": {},
   "outputs": [],
   "source": [
    "\r\n",
    "#orientation_comparison = orientation_comparison.copy().groupby(['sample','dox','exo','primerset','rep']).median()\r\n",
    "\"\"\"\r\n",
    "normed_orientation_compar\r\n",
    "normed_div_data = div_test_data.copy().groupby(['sample','dox','exo','primerset']).median()\r\n",
    "average_exo_reduction = normed_div_data.xs('+exo', level='exo')['Ct'] - normed_div_data.xs('-exo', level='exo')['Ct']\r\n",
    "# Use the -exo condition with the backbone primer to normalize for plasmid concentration. Adjust all Ct's accordingly.\r\n",
    "normed_div_data['normed_Ct'] = normed_div_data['Ct'] - normed_div_data.xs('-exo', level='exo').xs('BB-1', level='primerset')['Ct']\r\n",
    "dox_changes = normed_div_data.xs('+Dox', level='dox')['normed_Ct'] - normed_div_data.xs('-Dox', level='dox')['normed_Ct']\r\n",
    "normed_div_data = normed_div_data.reset_index()\r\n",
    "normed_div_data['full_condition'] = normed_div_data['sample'] + '.' + normed_div_data['dox'] + '.' + normed_div_data['exo']\r\n",
    "print(f'Average exo fold reduction: {2**average_exo_reduction.mean():.2f}')\r\n",
    "normed_div_data = div_test_data.copy().groupby(['sample','dox','exo','primerset']).median()\r\n",
    "\"\"\""
   ]
  }
 ],
 "metadata": {
  "interpreter": {
   "hash": "35596c0d4d50b3cf51088ffaabe9a8701552f7de3deccc6f17efae06fe0a22a4"
  },
  "kernelspec": {
   "display_name": "Python 3.9.4 64-bit ('env': venv)",
   "name": "python3"
  },
  "language_info": {
   "codemirror_mode": {
    "name": "ipython",
    "version": 3
   },
   "file_extension": ".py",
   "mimetype": "text/x-python",
   "name": "python",
   "nbconvert_exporter": "python",
   "pygments_lexer": "ipython3",
   "version": "3.9.4"
  }
 },
 "nbformat": 4,
 "nbformat_minor": 2
}
