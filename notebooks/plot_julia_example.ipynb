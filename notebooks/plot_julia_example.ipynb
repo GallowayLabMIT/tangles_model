{
 "cells": [
  {
   "cell_type": "code",
   "execution_count": null,
   "metadata": {},
   "outputs": [],
   "source": [
    "import matplotlib.pyplot as plt\n",
    "from matplotlib import animation\n",
    "from matplotlib.collections import LineCollection\n",
    "import numpy as np\n",
    "import h5py\n",
    "\n",
    "plt.rcParams['animation.ffmpeg_path'] = r'C:\\Users\\ChemeGrad2019\\Downloads\\ffmpeg-2020-12-09-git-7777e5119a-full_build\\bin\\ffmpeg.exe'\n",
    "ffmpeg_writer = animation.FFMpegWriter(fps=30, codec='libx265', extra_args=['-crf', '18'])"
   ]
  },
  {
   "cell_type": "code",
   "execution_count": null,
   "metadata": {},
   "outputs": [],
   "source": [
    "f = h5py.File('../output/julia_example_sims.h5', 'r')"
   ]
  },
  {
   "cell_type": "code",
   "execution_count": null,
   "metadata": {},
   "outputs": [],
   "source": [
    "max_rnap = 0\n",
    "max_idx = 0\n",
    "for idx, example in enumerate(f):\n",
    "    if example['rnap_location'].shape[2] > max_rnap:\n",
    "        max_rnap = example['rnap_location'].shape[2]\n",
    "        max_idx = idx\n",
    "print(max_rnap)\n",
    "print(max_idx)"
   ]
  },
  {
   "cell_type": "code",
   "execution_count": null,
   "metadata": {},
   "outputs": [],
   "source": [
    "examples=f['tangles_full_run.001151']\n",
    "print(examples.attrs['comment'])\n",
    "print(examples.attrs['rates.topo'])\n",
    "print(examples.attrs['gene.base_rate'])\n",
    "print(examples['time'].shape)"
   ]
  },
  {
   "cell_type": "code",
   "execution_count": null,
   "metadata": {},
   "outputs": [],
   "source": [
    "def gen_animation(data_group, gene_colors, filename, is_circular):\n",
    "    fig, ax = plt.subplots(figsize=(1920 / 300,1080 / 300))\n",
    "\n",
    "    genes = list(zip(data_group.attrs['gene.start'], data_group.attrs['gene.end']))\n",
    "\n",
    "\n",
    "    max_length = data_group.attrs['bcs.length']\n",
    "    ax.set_xlim([0,max_length])\n",
    "    ax.set_ylim([-100, 100 + max([abs(gene[1] - gene[0]) for gene in genes])])\n",
    "\n",
    "    polymerases = ax.plot([], [], 'ko')[0]\n",
    "\n",
    "    gene_plots = [ax.plot(gene, [0, 0], 'k',linewidth=14, zorder=0)[0] for gene in genes]\n",
    "\n",
    "    main_line = LineCollection([], cmap=plt.cm.coolwarm, norm=plt.Normalize(-.2,.2))\n",
    "    mRNA_lines = LineCollection([], colors='k')\n",
    "\n",
    "    def init():\n",
    "        main_line.set_segments([])\n",
    "        main_line.set_linewidth(8)\n",
    "        mRNA_lines.set_linewidth(3)\n",
    "        ax.add_collection(main_line)\n",
    "        ax.add_collection(mRNA_lines)\n",
    "        return (*gene_plots, main_line, mRNA_lines)\n",
    "    \n",
    "    def animate(i):\n",
    "        n_polymerases = np.sum(data_group['rnap_location'][:,i] >= 0)\n",
    "        rnap_locs = np.concatenate((\n",
    "            np.zeros(1,),\n",
    "            data_group['rnap_location'][:n_polymerases,i],\n",
    "            np.ones(1,) * max_length\n",
    "        ))\n",
    "        rnap_masked = np.ma.masked_array(rnap_locs[1:-1], mask=rnap_locs[1:-1] < 0)\n",
    "        phi = np.concatenate((\n",
    "            np.zeros(1,),\n",
    "            data_group['phi'][:n_polymerases,i],\n",
    "            np.zeros(1,)\n",
    "        ))\n",
    "        sigma = np.diff(phi) / np.diff(rnap_locs) / -1.85\n",
    "        points = np.array([rnap_locs, np.zeros(rnap_locs.shape)]).T.reshape(-1,1,2)\n",
    "        segments = np.concatenate([points[:-1], points[1:]], axis=1)\n",
    "        main_line.set_segments(segments)\n",
    "        main_line.set_array(sigma)\n",
    "\n",
    "        polymerases.set_data(rnap_masked, np.zeros(rnap_masked.shape))\n",
    "\n",
    "        mRNA_base = np.array([rnap_locs[1:  -1], np.zeros(rnap_locs[1:-1].shape)]).T.reshape(-1,1,2)\n",
    "        mRNA_tail = np.array([rnap_locs[1:-1], data_group['mRNA_length'][:n_polymerases,i]]).T.reshape(-1,1,2)\n",
    "        #print(mRNA_base)\n",
    "        #print(mRNA_tail)\n",
    "        mRNA_segments = np.concatenate([mRNA_base, mRNA_tail], axis=1)\n",
    "        mRNA_lines.set_segments(mRNA_segments)\n",
    "\n",
    "\n",
    "        return main_line, polymerases, mRNA_lines\n",
    "    anim = animation.FuncAnimation(fig, animate, init_func=init, frames=2000, interval=33, blit=True)\n",
    "    anim.save(filename, dpi=300, writer=ffmpeg_writer)\n",
    "gen_animation(examples, [], '../output/test_out.mp4', False)"
   ]
  },
  {
   "cell_type": "code",
   "execution_count": null,
   "metadata": {},
   "outputs": [],
   "source": [
    "   fig, axs = plt.subplots(1, 2, figsize=(10, 3), gridspec_kw={'width_ratios': [2, 1]})\n",
    "       \n",
    "    # Locate which raw segment this frame is in\n",
    "    lookup_results =  np.where([np.any(r[0] <= time) & np.any(r[0] >= time) for r in run_result['raw']])\n",
    "       \n",
    "    excess_twist = multi_interp(time, run_result['time'], run_result['excess_twist'])\n",
    "    sc_density = multi_interp(time, run_result['time'], run_result['sc_density'])\n",
    "\n",
    "    x_domain = run_result['x_domain']\n",
    "        \n",
    "    # Plot genes\n",
    "    for gene in genes:\n",
    "        axs[0].plot([gene[0], gene[1]], [0, 0],\n",
    "                linewidth=20, alpha=.5, zorder=1)\n",
    "\n",
    "    # Plot DNA segments\n",
    "    domain_points = np.array([x_domain, np.zeros(x_domain.shape)]).T.reshape(-1,1,2)\n",
    "    segments = np.concatenate([domain_points[:-1], domain_points[1:]], axis=1)\n",
    "    max_excursion = np.max(np.abs([np.min(run_result['sc_density']), np.max(run_result['sc_density'])]))\n",
    "    cmap_norm = plt.Normalize(-.125, .125)\n",
    "    dna_segments = LineCollection(segments, cmap='Spectral', norm=cmap_norm)\n",
    "    dna_segments.set_array(sc_density)\n",
    "    dna_segments.set_linewidth(8)\n",
    "    line = axs[0].add_collection(dna_segments)\n",
    "    fig.colorbar(line, ax=axs[0])"
   ]
  },
  {
   "cell_type": "code",
   "execution_count": null,
   "metadata": {},
   "outputs": [],
   "source": [
    "fig, ax = plt.subplots(figsize=(16,9))\n",
    "ax.plot([1,2],[3,4], 'ko')"
   ]
  },
  {
   "cell_type": "code",
   "execution_count": null,
   "metadata": {},
   "outputs": [],
   "source": [
    "print(examples['phi'][:, 180])"
   ]
  },
  {
   "cell_type": "code",
   "execution_count": null,
   "metadata": {},
   "outputs": [],
   "source": [
    "print(examples.keys())"
   ]
  },
  {
   "cell_type": "code",
   "execution_count": null,
   "metadata": {},
   "outputs": [],
   "source": []
  }
 ],
 "metadata": {
  "kernelspec": {
   "display_name": "Python 3.7.4  ('env': venv)",
   "name": "pythonjvsc74a57bd0633f1c1c8320b313f5f886b41bd1fdc446650904a8aae9c7ea4880a02892af16"
  },
  "language_info": {
   "codemirror_mode": {
    "name": "ipython",
    "version": 3
   },
   "file_extension": ".py",
   "mimetype": "text/x-python",
   "name": "python",
   "nbconvert_exporter": "python",
   "pygments_lexer": "ipython3",
   "version": "3.7.4"
  },
  "metadata": {
   "interpreter": {
    "hash": "633f1c1c8320b313f5f886b41bd1fdc446650904a8aae9c7ea4880a02892af16"
   }
  }
 },
 "nbformat": 4,
 "nbformat_minor": 2
}
