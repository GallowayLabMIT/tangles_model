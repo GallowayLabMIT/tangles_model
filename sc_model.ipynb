{
 "cells": [
  {
   "cell_type": "code",
   "execution_count": null,
   "metadata": {},
   "outputs": [],
   "source": [
    "import numpy as np\n",
    "from matplotlib import pyplot as plt\n",
    "from matplotlib.collections import LineCollection\n",
    "import pandas as pd\n",
    "import holoviews as hv\n",
    "hv.extension('bokeh')\n",
    "from holoviews.operation.datashader import datashade\n",
    "\n",
    "from tqdm import tqdm\n",
    "\n",
    "import stochastic_sc_model as ssc_model\n",
    "\n",
    "# Ensure we don't hit floating point errors\n",
    "np.seterr('raise')"
   ]
  },
  {
   "cell_type": "markdown",
   "metadata": {},
   "source": [
    "The problem is defined by the location of the currently active polymerases. Each polymerase is characterized by:\n",
    "1. It's location\n",
    "2. The length of the nascent mRNA tail ($x$)\n",
    "3. The DNA twist at this location ($\\phi$)\n",
    "4. The RNAC at this location ($\\theta$)\n",
    "\n",
    "We actually only need to track the first three; the fourth is completely determined by the first three.\n",
    "\n",
    "Given this state information, we can compute the relaxed supercoiling, which in turn gives us information on the "
   ]
  },
  {
   "cell_type": "code",
   "execution_count": null,
   "metadata": {},
   "outputs": [],
   "source": [
    "params = {\n",
    "    'mRNA_drag': 1/20, # pN nm^(alpha / 1)\n",
    "    'mRNA_exponent': 1, # the value of alpha\n",
    "    'DNA_twist_mobility': 10, # s pN nm\n",
    "    'RNAP_radius': 15, # nm\n",
    "    'RNAP_velocity': 20, # nm / s\n",
    "    'RNAP_torque_cutoff': 12, # pN nm\n",
    "    'RNAP_stall_torque_width': 3, #pN\n",
    "    'DNA_force': 1, # pN\n",
    "    'DNA_bend_plength': 50, # pN\n",
    "    'DNA_twist_plength': 95, # pN\n",
    "    'DNA_plectonome_twist_plength': 24, # pN\n",
    "    'temperature': 298, # K\n",
    "    'base_promoter_initiation_rate': 1 / 120, # 1 / sec\n",
    "    'topo_rate': 1 / 1200, # 1 / sec\n",
    "    'mRNA_deg_rate': 1 / 1200 # 1 / sec\n",
    "}"
   ]
  },
  {
   "cell_type": "markdown",
   "metadata": {},
   "source": [
    "Using a conversion of 1bp = .34nm, we need to investigate our different elements.\n",
    "The upstream RFP-CYMR ORF is 975bp. WPRE is 589bp, with the polyA signal being 200bp.\n",
    "The downstream rTTa/IRES/mVenus is 2161bp.\n",
    "\n",
    "The tandem case is:\n",
    "upstream-WPRE-polyA-1212bp spacer (UbC)-rTTA combo\n",
    "\n",
    "The convergent case is:\n",
    "upstream-WPRE-polyA-589 bp spacer (WPRE)-rTTA combo\n",
    "\n",
    "Let's make both of the edges a rigid barrier, with that barrier being ~3000bp away on each side (2000 bp viral LTRs, plus 1kb)\n",
    "\n"
   ]
  },
  {
   "cell_type": "code",
   "execution_count": null,
   "metadata": {},
   "outputs": [],
   "source": [
    "# Create mesh of expression values\n",
    "mesh_x, mesh_y = np.meshgrid(np.logspace(-1,0,5), np.logspace(-1,0,5))"
   ]
  },
  {
   "cell_type": "code",
   "execution_count": null,
   "metadata": {},
   "outputs": [],
   "source": [
    "RFP_start = 3000 * .34;\n",
    "RFP_end = RFP_start + (975 + 589 + 200) * .34\n",
    "mVenus_end = RFP_end + (589 * .34)\n",
    "mVenus_start = mVenus_end + (2161 * .34)\n",
    "end_barrier = mVenus_end + (3000 * .34)\n",
    "convergent = pd.concat([\n",
    "    ssc_model.bulk_simulation(params, ((0,0), (end_barrier, 0)),[\n",
    "                            (RFP_start, RFP_end, rfp_strength),\n",
    "                            (mVenus_start, mVenus_end, mVenus_strength)],\n",
    "                ['RFP', 'mVenus'], (0, 12000, 1000), 500)\n",
    "    for rfp_strength, mVenus_strength in tqdm(zip(mesh_x.flatten(), mesh_y.flatten()))])\n",
    "convergent.to_feather('convergent_promoter_strength_grid.feather')"
   ]
  },
  {
   "cell_type": "code",
   "execution_count": null,
   "metadata": {},
   "outputs": [],
   "source": [
    "convergent = pd.read_feather('convergent_promoter_strength_grid.feather')"
   ]
  },
  {
   "cell_type": "code",
   "execution_count": null,
   "metadata": {},
   "outputs": [],
   "source": [
    "ss_timepoint = convergent[abs((convergent['time'] - 11051)) < 1]"
   ]
  },
  {
   "cell_type": "code",
   "execution_count": null,
   "metadata": {},
   "outputs": [],
   "source": [
    "equal_promoter_strength = ss_timepoint[ss_timepoint['RFP_promoter_strength'] == ss_timepoint['mVenus_promoter_strength']]\n",
    "equal_promoter_table = hv.Table(equal_promoter_strength,\n",
    "                                [('RFP_promoter_strength', 'Promoter strength')],\n",
    "                                ['RFP_expression', 'mVenus_expression'])"
   ]
  },
  {
   "cell_type": "code",
   "execution_count": null,
   "metadata": {},
   "outputs": [],
   "source": [
    "equal_scatter = equal_promoter_table.to.scatter('RFP_expression', 'mVenus_expression')\n",
    "equal_scatter.overlay('RFP_promoter_strength').opts(\n",
    "    hv.opts.Scatter(color=hv.Cycle('Category10'), alpha=0.5, size=5),\n",
    "    hv.opts.NdOverlay(legend_position='top')).options(width=700, height=500)"
   ]
  },
  {
   "cell_type": "code",
   "execution_count": null,
   "metadata": {},
   "outputs": [],
   "source": [
    "equal_scatter.hist(['RFP_expression', 'mVenus_expression'])"
   ]
  },
  {
   "cell_type": "code",
   "execution_count": null,
   "metadata": {},
   "outputs": [],
   "source": [
    "ss_mean = ss_timepoint.groupby(['RFP_promoter_strength', 'mVenus_promoter_strength']).mean()\n",
    "ss_mean['rfp_venus_ratio'] = ss_mean['RFP_expression'] / ss_mean['mVenus_expression']\n",
    "ss_mean['rfp_venus_fold_ratio'] = np.log10(ss_mean['rfp_venus_ratio'])"
   ]
  },
  {
   "cell_type": "code",
   "execution_count": null,
   "metadata": {},
   "outputs": [],
   "source": [
    "heatmap = hv.HeatMap(ss_mean, ['mVenus_promoter_strength', 'RFP_promoter_strength'], 'rfp_venus_fold_ratio')\n",
    "heatmap.opts(colorbar=True, logx=True, logy=True)"
   ]
  },
  {
   "cell_type": "code",
   "execution_count": null,
   "metadata": {},
   "outputs": [],
   "source": [
    "ss_mean.loc[:, ['RFP_expression', 'mVenus_expression', 'rfp_venus_ratio']]"
   ]
  },
  {
   "cell_type": "code",
   "execution_count": null,
   "metadata": {},
   "outputs": [],
   "source": [
    "RFP_start = 3000 * .34;\n",
    "RFP_end = RFP_start + (975 + 589 + 200) * .34\n",
    "mVenus_end = RFP_end + (589 * .34)\n",
    "mVenus_start = mVenus_end + (2161 * .34)\n",
    "end_barrier = mVenus_end + (3000 * .34)\n",
    "sim = ssc_model.SupercoilingSimulation(params, ((0,0), (end_barrier, 0)),[\n",
    "                            (RFP_start, RFP_end, 1),\n",
    "                            (mVenus_start, mVenus_end, 1)])\n",
    "\n",
    "sim.enable_topo_relaxation()\n",
    "single_result = sim.postprocess_run(sim.simulate((0, 12000)))\n",
    "ssc_model.gen_movie(single_result, [\n",
    "    (RFP_start, RFP_end, 1),\n",
    "    (mVenus_start, mVenus_end, 1)], 60 * 60, 'equal', 'animation_output', True)\n",
    "\n",
    "sim = ssc_model.SupercoilingSimulation(params, ((0,0), (end_barrier, 0)),[\n",
    "                            (RFP_start, RFP_end, .3),\n",
    "                            (mVenus_start, mVenus_end, 1)])\n",
    "\n",
    "sim.enable_topo_relaxation()\n",
    "single_result = sim.postprocess_run(sim.simulate((0, 12000)))\n",
    "ssc_model.gen_movie(single_result, [\n",
    "    (RFP_start, RFP_end, 1),\n",
    "    (mVenus_start, mVenus_end, 1)], 60 * 60, 'unequal', 'animation_output', True)"
   ]
  },
  {
   "cell_type": "code",
   "execution_count": null,
   "metadata": {},
   "outputs": [],
   "source": [
    "datashade(hv.Points(convergent, ['time', 'RFP_expression'])) * hv.Curve(ss_mean, ['time', 'RFP_expression'])"
   ]
  },
  {
   "cell_type": "code",
   "execution_count": null,
   "metadata": {},
   "outputs": [],
   "source": [
    "plt.plot(np.linspace(0,.05,100),sim.model.polymerase_velocity(np.zeros((100,)), np.linspace(0,.05,100)))\n",
    "plt.show()\n",
    "plt.plot(np.linspace(0,20,100), 1 / (1 + np.exp((np.linspace(0,20,100) - 12)/.1)))\n",
    "plt.show()\n",
    "plt.plot(np.linspace(0,.1,100), sim.model.torque_response(np.linspace(0,.1,100)))"
   ]
  },
  {
   "cell_type": "code",
   "execution_count": null,
   "metadata": {},
   "outputs": [],
   "source": []
  }
 ],
 "metadata": {
  "kernelspec": {
   "display_name": "Python 3",
   "language": "python",
   "name": "python3"
  },
  "language_info": {
   "codemirror_mode": {
    "name": "ipython",
    "version": 3
   },
   "file_extension": ".py",
   "mimetype": "text/x-python",
   "name": "python",
   "nbconvert_exporter": "python",
   "pygments_lexer": "ipython3",
   "version": "3.6.9"
  }
 },
 "nbformat": 4,
 "nbformat_minor": 4
}
