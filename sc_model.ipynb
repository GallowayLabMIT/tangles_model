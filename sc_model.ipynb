{
 "cells": [
  {
   "cell_type": "code",
   "execution_count": null,
   "metadata": {},
   "outputs": [],
   "source": [
    "import numpy as np\n",
    "from matplotlib import pyplot as plt\n",
    "from matplotlib.collections import LineCollection\n",
    "import pandas as pd\n",
    "import holoviews as hv\n",
    "import seaborn as sns\n",
    "import gc\n",
    "hv.extension('bokeh')\n",
    "from holoviews.operation.datashader import datashade\n",
    "import bokeh\n",
    "import bokeh.plotting\n",
    "import bokeh.palettes\n",
    "import bokeh.models\n",
    "import scipy\n",
    "\n",
    "from tqdm import tqdm\n",
    "\n",
    "import stochastic_sc_model as ssc_model\n",
    "\n",
    "# Ensure we don't hit floating point errors\n",
    "np.seterr('raise')\n",
    "np.seterr(under='ignore')\n",
    "\n",
    "colors20 = bokeh.palettes.d3['Category20'][20]"
   ]
  },
  {
   "cell_type": "markdown",
   "metadata": {},
   "source": [
    "The problem is defined by the location of the currently active polymerases. Each polymerase is characterized by:\n",
    "1. It's location\n",
    "2. The length of the nascent mRNA tail ($x$)\n",
    "3. The DNA twist at this location ($\\phi$)\n",
    "4. The RNAC at this location ($\\theta$)\n",
    "\n",
    "We actually only need to track the first three; the fourth is completely determined by the first three.\n",
    "\n",
    "Given this state information, we can compute the relaxed supercoiling, which in turn gives us information on the "
   ]
  },
  {
   "cell_type": "code",
   "execution_count": null,
   "metadata": {},
   "outputs": [],
   "source": [
    "params = {\n",
    "    'mRNA_drag': 1/20, # pN nm^(alpha / 1)\n",
    "    'mRNA_exponent': 1, # the value of alpha\n",
    "    'DNA_twist_mobility': 10, # s pN nm\n",
    "    'RNAP_radius': 15, # nm\n",
    "    'RNAP_velocity': 20, # nm / s\n",
    "    'RNAP_torque_cutoff': 12, # pN nm\n",
    "    'RNAP_stall_torque_width': 3, #pN\n",
    "    'DNA_force': 1, # pN\n",
    "    'DNA_bend_plength': 50, # pN\n",
    "    'DNA_twist_plength': 95, # pN\n",
    "    'DNA_plectonome_twist_plength': 24, # pN\n",
    "    'temperature': 298, # K\n",
    "    'base_promoter_initiation_rate': 1 / 120, # 1 / sec\n",
    "    'topo_rate': 1 / 1200, # 1 / sec\n",
    "    'mRNA_deg_rate': 1 / 1200 # 1 / sec\n",
    "}"
   ]
  },
  {
   "cell_type": "markdown",
   "metadata": {},
   "source": [
    "Using a conversion of 1bp = .34nm, we need to investigate our different elements.\n",
    "The upstream RFP-CYMR ORF is 975bp. WPRE is 589bp, with the polyA signal being 200bp.\n",
    "The downstream rTTa/IRES/mVenus is 2161bp.\n",
    "\n",
    "The tandem case is:\n",
    "upstream-WPRE-polyA-1212bp spacer (UbC)-rTTA combo\n",
    "\n",
    "The convergent case is:\n",
    "upstream-WPRE-polyA-589 bp spacer (WPRE)-rTTA combo\n",
    "\n",
    "Let's make both of the edges a rigid barrier, with that barrier being ~3000bp away on each side (2000 bp viral LTRs, plus 1kb)\n",
    "\n"
   ]
  },
  {
   "cell_type": "code",
   "execution_count": null,
   "metadata": {},
   "outputs": [],
   "source": [
    "# Create mesh of expression values\n",
    "mesh_x, mesh_y = np.meshgrid(np.logspace(-1,0,5), np.logspace(-1,0,5))"
   ]
  },
  {
   "cell_type": "code",
   "execution_count": null,
   "metadata": {},
   "outputs": [],
   "source": [
    "RFP_start = 3000 * .34;\n",
    "RFP_end = RFP_start + (975 + 589 + 200) * .34\n",
    "mVenus_end = RFP_end + (589 * .34)\n",
    "mVenus_start = mVenus_end + (2161 * .34)\n",
    "end_barrier = mVenus_end + (3000 * .34)\n",
    "convergent = pd.concat([\n",
    "    ssc_model.bulk_simulation(params, ((0,0), (end_barrier, 0)),[\n",
    "                            (RFP_start, RFP_end, rfp_strength),\n",
    "                            (mVenus_start, mVenus_end, mVenus_strength)],\n",
    "                ['RFP', 'mVenus'], (0, 12000, 1000), 500)\n",
    "    for rfp_strength, mVenus_strength in tqdm(zip(mesh_x.flatten(), mesh_y.flatten()))])\n",
    "convergent.to_feather('convergent_promoter_strength_grid.feather')"
   ]
  },
  {
   "cell_type": "code",
   "execution_count": null,
   "metadata": {},
   "outputs": [],
   "source": [
    "convergent = pd.read_feather('convergent_promoter_strength_grid.feather')"
   ]
  },
  {
   "cell_type": "code",
   "execution_count": null,
   "metadata": {},
   "outputs": [],
   "source": [
    "convergent['rfp_venus_stoich_ratio'] = convergent['RFP_promoter_strength'] / convergent['mVenus_promoter_strength']\n",
    "convergent['total_promoter_strength'] = convergent['RFP_promoter_strength'] + convergent['mVenus_promoter_strength']\n",
    "ss_timepoint = convergent[abs((convergent['time'] - 11051)) < 1]"
   ]
  },
  {
   "cell_type": "code",
   "execution_count": null,
   "metadata": {},
   "outputs": [],
   "source": [
    "equal_promoter_strength = ss_timepoint[ss_timepoint['RFP_promoter_strength'] == ss_timepoint['mVenus_promoter_strength']]\n",
    "equal_promoter_table = hv.Table(equal_promoter_strength,\n",
    "                                [('RFP_promoter_strength', 'Promoter strength')],\n",
    "                                ['RFP_expression', 'mVenus_expression'])"
   ]
  },
  {
   "cell_type": "code",
   "execution_count": null,
   "metadata": {},
   "outputs": [],
   "source": [
    "equal_scatter = equal_promoter_table.to.scatter('RFP_expression', 'mVenus_expression')\n",
    "equal_scatter.overlay('RFP_promoter_strength').opts(\n",
    "    hv.opts.Scatter(color=hv.Cycle('Category10'), alpha=0.5, size=5),\n",
    "    hv.opts.NdOverlay(legend_position='top')).options(width=700, height=500)"
   ]
  },
  {
   "cell_type": "code",
   "execution_count": null,
   "metadata": {},
   "outputs": [],
   "source": [
    "equal_scatter.hist(['RFP_expression', 'mVenus_expression'])"
   ]
  },
  {
   "cell_type": "code",
   "execution_count": null,
   "metadata": {},
   "outputs": [],
   "source": [
    "ss_mean = ss_timepoint.groupby(['mVenus_promoter_strength', 'RFP_promoter_strength']).mean()\n",
    "ss_mean['rfp_venus_ratio'] = ss_mean['RFP_expression'] / ss_mean['mVenus_expression']"
   ]
  },
  {
   "cell_type": "code",
   "execution_count": null,
   "metadata": {},
   "outputs": [],
   "source": [
    "scatter = hv.Scatter(ss_mean.reset_index(), ('rfp_venus_stoich_ratio', 'Promoter strength ratio'),\n",
    "                     [('rfp_venus_ratio', 'Expression ratio'), 'total_promoter_strength']).opts(\n",
    "    color='total_promoter_strength', cmap='Viridis', colorbar=True,\n",
    "    logx=True, logy=True, size=10) * hv.Curve([(0.1,0.1), (10,10)]).opts(color=colors20[2])\n",
    "scatter = scatter.options(width=700, height=550)\n",
    "bokeh.io.show(fix_plot_text(hv.render(scatter)))"
   ]
  },
  {
   "cell_type": "code",
   "execution_count": null,
   "metadata": {},
   "outputs": [],
   "source": [
    "heatmap = hv.HeatMap(ss_mean, ['mVenus_promoter_strength', 'RFP_promoter_strength'], 'rfp_venus_fold_ratio')\n",
    "heatmap.opts(colorbar=True, logx=True, logy=True)"
   ]
  },
  {
   "cell_type": "code",
   "execution_count": null,
   "metadata": {},
   "outputs": [],
   "source": [
    "ss_mean.loc[:, ['RFP_expression', 'mVenus_expression', 'rfp_venus_ratio']]"
   ]
  },
  {
   "cell_type": "code",
   "execution_count": null,
   "metadata": {},
   "outputs": [],
   "source": [
    "no_readthrough_sim = ssc_model.SupercoilingSimulation(params, ((0, 0), (2000, 0)),[\n",
    "    (500, 800, 1, ['reporter'])])\n",
    "no_readthrough_sim.enable_topo_relaxation()\n",
    "run = no_readthrough_sim.postprocess_run(no_readthrough_sim.simulate((0, 2000)))\n",
    "ssc_model.gen_movie(run, [\n",
    "    (500, 800, 1)], 30 * 60, 'no_readthrough', 'animation_output', True,\n",
    "                   x_range_override=(500,1250))\n",
    "\n",
    "readthrough_sim = ssc_model.SupercoilingSimulation(params, ((0, 0), (2000, 0)),[\n",
    "    (500, 800, 1, ['reporter'], lambda: np.random.exponential(200), False)])\n",
    "readthrough_sim.enable_topo_relaxation()\n",
    "run = readthrough_sim.postprocess_run(readthrough_sim.simulate((0, 2000)))\n",
    "ssc_model.gen_movie(run, [\n",
    "    (500, 800, 1)], 30 * 60, 'readthrough_time', 'animation_output', True,\n",
    "                   x_range_override=(500,1250))\n",
    "\n",
    "readthrough_distance = ssc_model.SupercoilingSimulation(params, ((0, 0), (2000, 0)),[\n",
    "    (500, 800, 1, ['reporter'], lambda: np.random.exponential(200), True)])\n",
    "readthrough_distance.enable_topo_relaxation()\n",
    "run = readthrough_distance.postprocess_run(readthrough_distance.simulate((0, 2000)))\n",
    "ssc_model.gen_movie(run, [\n",
    "    (500, 800, 1)], 30 * 60, 'readthrough_distance', 'animation_output', True,\n",
    "                   x_range_override=(500,1250))"
   ]
  },
  {
   "cell_type": "code",
   "execution_count": null,
   "metadata": {},
   "outputs": [],
   "source": [
    "to_barrier = 3000 # bp\n",
    "rfp_cymr = 975 # bp\n",
    "wpre = 589 # bp\n",
    "polyA = 200 # bp\n",
    "tandem_ubc_spacer = 1327 # bp\n",
    "venus_rtta = 2915 # bp\n",
    "\n",
    "tandem_sim_args = (params, ((0, 0),\n",
    "   ((to_barrier + rfp_cymr + tandem_ubc_spacer + venus_rtta + to_barrier) * .34, 0)),[\n",
    "    # Complete readthrough on upstream gene, but low efficency\n",
    "    (to_barrier * .34, (to_barrier + rfp_cymr + tandem_ubc_spacer + venus_rtta) * .34, .3,\n",
    "     ['RFP', 'mVenus'], 200, False),\n",
    "    # Downstream\n",
    "    ((to_barrier + rfp_cymr + tandem_ubc_spacer) * .34, (to_barrier + rfp_cymr + tandem_ubc_spacer + venus_rtta) * .34,\n",
    "     1, ['mVenus'], 200, False)])\n",
    "tandem_sim = ssc_model.SupercoilingSimulation(*tandem_sim_args)\n",
    "tandem_sim.enable_topo_relaxation()\n",
    "\n",
    "tandem_wpre_sim_args = (params, ((0, 0),\n",
    "   ((to_barrier + rfp_cymr + wpre + tandem_ubc_spacer + venus_rtta + to_barrier) * .34, 0)),[\n",
    "    # Complete readthrough, but lower efficency\n",
    "    (to_barrier * .34, (to_barrier + rfp_cymr + wpre + tandem_ubc_spacer + venus_rtta) * .34,\n",
    "    1, ['RFP', 'mVenus'], 200, False),\n",
    "    # Downstream\n",
    "    ((to_barrier + rfp_cymr + wpre + tandem_ubc_spacer) * .34,\n",
    "     (to_barrier + rfp_cymr + wpre + tandem_ubc_spacer + venus_rtta) * .34,\n",
    "     1, ['mVenus'], 200, False)])\n",
    "tandem_wpre_sim = ssc_model.SupercoilingSimulation(*tandem_wpre_sim_args)\n",
    "tandem_wpre_sim.enable_topo_relaxation()\n",
    "\n",
    "tandem_wpre_polyA_sim_args = (params, ((0, 0),\n",
    "   ((to_barrier + rfp_cymr + wpre + polyA + tandem_ubc_spacer + venus_rtta + to_barrier) * .34, 0)),[\n",
    "    # No readthrough\n",
    "    (to_barrier * .34, (to_barrier + rfp_cymr + wpre + polyA) * .34, 1,\n",
    "    ['RFP'], 200, False),\n",
    "    # Downstream\n",
    "    ((to_barrier + rfp_cymr + wpre + polyA + tandem_ubc_spacer) * .34,\n",
    "     (to_barrier + rfp_cymr + wpre + polyA + tandem_ubc_spacer + venus_rtta) * .34,\n",
    "     1, ['mVenus'], 200, False)])\n",
    "tandem_wpre_polyA_sim = ssc_model.SupercoilingSimulation(*tandem_wpre_polyA_sim_args)\n",
    "tandem_wpre_polyA_sim.enable_topo_relaxation()\n",
    "\n",
    "tandem_sims = [(tandem_sim,\n",
    "                '-WPRE',\n",
    "                [(to_barrier * .34, (to_barrier + rfp_cymr) * .34),\n",
    "                 ((to_barrier + rfp_cymr + tandem_ubc_spacer) * .34,\n",
    "                  (to_barrier + rfp_cymr + tandem_ubc_spacer + venus_rtta) * .34)]),\n",
    "               (tandem_wpre_sim,\n",
    "                '+WPRE',\n",
    "                [(to_barrier * .34, (to_barrier + rfp_cymr) * .34),\n",
    "                 ((to_barrier + rfp_cymr + wpre + tandem_ubc_spacer) * .34,\n",
    "                  (to_barrier + rfp_cymr + wpre + tandem_ubc_spacer + venus_rtta) * .34)]),\n",
    "               (tandem_wpre_polyA_sim,\n",
    "                '+WPRE+polyA',\n",
    "                [(to_barrier * .34, (to_barrier + rfp_cymr) * .34),\n",
    "                 ((to_barrier + rfp_cymr + wpre + polyA + tandem_ubc_spacer) * .34,\n",
    "                  (to_barrier + rfp_cymr + wpre + polyA +tandem_ubc_spacer + venus_rtta) * .34)])]"
   ]
  },
  {
   "cell_type": "code",
   "execution_count": null,
   "metadata": {},
   "outputs": [],
   "source": [
    "for sim, name, genes in tandem_sims:\n",
    "    single_result = sim.postprocess_run(sim.simulate((0, 12000)))\n",
    "    print('Success on {}, writing movie'.format(name))\n",
    "    ssc_model.gen_movie(single_result, genes, 60 * 60, 'tandem' + name, 'animation_output', True)"
   ]
  },
  {
   "cell_type": "code",
   "execution_count": null,
   "metadata": {},
   "outputs": [],
   "source": [
    "wpre_sims.reset_index().to_feather('tandem_wpre.feather')\n",
    "wpre_polyA_sims.reset_index().to_feather('tandem_wpre_polya.feather')"
   ]
  },
  {
   "cell_type": "code",
   "execution_count": null,
   "metadata": {},
   "outputs": [],
   "source": [
    "# Make mass dataframe\n",
    "wpre_sims = ssc_model.bulk_simulation(*tandem_wpre_sim_args, ['RFP', 'mVenus'], (0, 10000, 1000), 10000)\n",
    "wpre_polyA_sims = ssc_model.bulk_simulation(*tandem_wpre_polyA_sim_args, ['RFP', 'mVenus'], (0, 10000, 1000), 10000)\n",
    "wpre_sims.reset_index().to_feather('tandem_wpre.feather')\n",
    "wpre_polyA_sims.reset_index().to_feather('tandem_wpre_polya.feather')"
   ]
  },
  {
   "cell_type": "code",
   "execution_count": null,
   "metadata": {},
   "outputs": [],
   "source": [
    "def density_plot(df):\n",
    "    plots = (hv.Bivariate(df, ['RFP_expression', 'mVenus_expression']))\n",
    "    return plots\n",
    "\n",
    "def ci_plot(df, fig, colors, legend):\n",
    "    \"\"\"\n",
    "    Plots onto a Bokeh plot.\n",
    "    \"\"\"\n",
    "    bestfit = scipy.stats.linregress(df['RFP_expression'], df['mVenus_expression'])\n",
    "    \n",
    "    fig.scatter('RFP_expression', 'mVenus_expression', source=df, color=colors[0], legend_label=legend,\n",
    "                 radius=.07)\n",
    "    fig.line([0, 10], [bestfit.intercept, bestfit.intercept + bestfit.slope * 10], \n",
    "             color=colors[1], legend_label=legend + ' linear fit')\n",
    "    num_bootstraps = 1000\n",
    "    linfits = [()] * num_bootstraps\n",
    "    num_points = df.shape[0]\n",
    "    for i in range(num_bootstraps):\n",
    "        bootstrap_resample = np.random.choice(range(num_points), num_points)\n",
    "        bootstrap_view = df.iloc[list(bootstrap_resample)]\n",
    "        result = scipy.stats.linregress(bootstrap_view['RFP_expression'], bootstrap_view['mVenus_expression'])\n",
    "        linfits[i] = (result.slope, result.intercept)\n",
    "    sample_x = np.linspace(0, 10, 200)\n",
    "    n_points = sample_x.shape[0]\n",
    "    n_fits = len(linfits)\n",
    "    confint = .99\n",
    "    ci = np.zeros((2, n_points))\n",
    "    for idx, x_i in enumerate(sample_x):\n",
    "        values = sorted([l[1] + x_i * l[0] for l in linfits])\n",
    "        ci[:,idx] = [values[np.floor(n_fits * (1 - confint) / 2).astype(int)],\n",
    "                         values[np.floor(n_fits * (1 + confint) / 2).astype(int)]]\n",
    "    fig.varea(sample_x, ci[0,:], ci[1,:], color=colors[2], alpha=.6, legend_label=legend + ' linear fit')\n",
    "    fig = bokeh.plotting.figure(width=400, height=400, x_axis_label = 'RFP expression',\n",
    "                                y_axis_label = 'mVenus expression', x_range = [])\n",
    "def fix_plot_text(plot):\n",
    "    plot.title.text_font='Arial'\n",
    "    plot.xaxis.axis_label_text_font_style='normal'\n",
    "    plot.xaxis.axis_label_text_font='Arial'\n",
    "    plot.yaxis.axis_label_text_font_style='normal'\n",
    "    plot.yaxis.axis_label_text_font='Arial'\n",
    "    plot.xaxis.axis_label_text_font_size='12pt'\n",
    "    plot.xaxis.major_label_text_font_size='10pt'\n",
    "    plot.yaxis.axis_label_text_font_size='12pt'\n",
    "    plot.yaxis.major_label_text_font_size='10pt'\n",
    "    if len(plot.legend) != 0:\n",
    "        plot.legend.label_text_font_size='12pt'\n",
    "        plot.legend.label_text_font='Arial'\n",
    "        plot.legend.click_policy = 'hide'\n",
    "    return plot"
   ]
  },
  {
   "cell_type": "code",
   "execution_count": null,
   "metadata": {},
   "outputs": [],
   "source": [
    "fig = bokeh.plotting.figure(width=400, height=400, x_axis_label = 'RFP expression',\n",
    "                                y_axis_label = 'mVenus expression', x_range = [0, 10], y_range = [0, 10])\n",
    "ci_plot(wpre_sims[wpre_sims['time']==10000.0], fig, [colors20[0], colors20[0], colors20[1]], '+WPRE')\n",
    "ci_plot(wpre_polyA_sims[wpre_polyA_sims['time']==10000.0], fig, [colors20[16], colors20[16], colors20[17]],\n",
    "        '+WPRE, +polyA')\n",
    "fig.legend.location = 'bottom_right'\n",
    "bokeh.io.show(fix_plot_text(fig))"
   ]
  },
  {
   "cell_type": "code",
   "execution_count": null,
   "metadata": {},
   "outputs": [],
   "source": [
    "density = hv.render(density_plot(wpre_sims[wpre_sims['time']==10000.0]))\n",
    "density.x_range = bokeh.models.Range1d(0, 7)\n",
    "bokeh.io.show(fix_plot_text(density))\n",
    "density = hv.render(density_plot(wpre_polyA_sims[wpre_polyA_sims['time']==10000.0]))\n",
    "bokeh.io.show(fix_plot_text(density))"
   ]
  },
  {
   "cell_type": "code",
   "execution_count": null,
   "metadata": {},
   "outputs": [],
   "source": [
    "RFP_start = 3000 * .34;\n",
    "RFP_end = RFP_start + (975 + 589 + 200) * .34\n",
    "mVenus_end = RFP_end + (589 * .34)\n",
    "mVenus_start = mVenus_end + (2915 * .34)\n",
    "end_barrier = mVenus_end + (3000 * .34)"
   ]
  },
  {
   "cell_type": "code",
   "execution_count": null,
   "metadata": {},
   "outputs": [],
   "source": [
    "sim = ssc_model.SupercoilingSimulation(params, ((0,0), (end_barrier, 0)),[\n",
    "                            (RFP_start, RFP_end, .3),\n",
    "                            (mVenus_start, mVenus_end, .3)])\n",
    "\n",
    "sim.enable_topo_relaxation()\n",
    "single_result = sim.postprocess_run(sim.simulate((0, 12000)))\n",
    "ssc_model.gen_movie(single_result, [\n",
    "    (RFP_start, RFP_end, 1),\n",
    "    (mVenus_start, mVenus_end, 1)], 60 * 60, 'equal', 'animation_output', True)\n",
    "\n",
    "sim = ssc_model.SupercoilingSimulation(params, ((0,0), (end_barrier, 0)),[\n",
    "                            (RFP_start, RFP_end, .3),\n",
    "                            (mVenus_start, mVenus_end, 1)])\n",
    "\n",
    "sim.enable_topo_relaxation()\n",
    "single_result = sim.postprocess_run(sim.simulate((0, 12000)))\n",
    "ssc_model.gen_movie(single_result, [\n",
    "    (RFP_start, RFP_end, 1),\n",
    "    (mVenus_start, mVenus_end, 1)], 60 * 60, 'unequal', 'animation_output', True)"
   ]
  },
  {
   "cell_type": "code",
   "execution_count": null,
   "metadata": {},
   "outputs": [],
   "source": [
    "sim = ssc_model.SupercoilingSimulation(params, ((0,0), (end_barrier, 0)),[\n",
    "                            (RFP_start, RFP_end, 0.3, ['RFP'], 1000, False),\n",
    "                            (mVenus_start, mVenus_end, 0.3, ['mVenus'], 1000, False)])\n",
    "\n",
    "sim.enable_topo_relaxation()\n",
    "single_result = sim.postprocess_run(sim.simulate((0, 40000)))\n",
    "print('Writing movie')\n",
    "ssc_model.gen_movie(single_result, [\n",
    "    (RFP_start, RFP_end, 1),\n",
    "    (mVenus_start, mVenus_end, 1)], 60 * 60, 'convergent_readthrough', 'animation_output', True)"
   ]
  },
  {
   "cell_type": "code",
   "execution_count": null,
   "metadata": {},
   "outputs": [],
   "source": [
    "convergent_readthrough['rel_expression'] = convergent_readthrough['RFP_expression'] - convergent_readthrough['mVenus_expression']\n",
    "convergent_no_readthrough['rel_expression'] = convergent_no_readthrough['RFP_expression'] - convergent_no_readthrough['mVenus_expression']"
   ]
  },
  {
   "cell_type": "code",
   "execution_count": null,
   "metadata": {},
   "outputs": [],
   "source": [
    "convergent_args = (params, ((0,0), (end_barrier, 0)),[\n",
    "                            (RFP_start, RFP_end, .3, ['RFP'], 1000, False),\n",
    "                            (mVenus_start, mVenus_end, .3, ['mVenus'], 1000, False)])\n",
    "convergent_readthrough = ssc_model.bulk_simulation(*convergent_args, ['RFP', 'mVenus'], (0, 10000, 1000), 10000)\n",
    "convergent_readthrough.reset_index().to_feather('convergent_readthrough_10000.feather')"
   ]
  },
  {
   "cell_type": "code",
   "execution_count": null,
   "metadata": {},
   "outputs": [],
   "source": [
    "convergent_no_readthrough_args = (params, ((0,0), (end_barrier, 0)),[\n",
    "                            (RFP_start, RFP_end, .3, ['RFP']),\n",
    "                            (mVenus_start, mVenus_end, .3, ['mVenus'])])\n",
    "convergent_no_readthrough = ssc_model.bulk_simulation(*convergent_no_readthrough_args, ['RFP', 'mVenus'], (0, 10000, 1000), 10000)\n",
    "convergent_no_readthrough.reset_index().to_feather('convergent_no_readthrough_10000.feather')"
   ]
  },
  {
   "cell_type": "code",
   "execution_count": null,
   "metadata": {},
   "outputs": [],
   "source": [
    "sns.set(color_codes=True)\n",
    "sns.distplot(convergent_readthrough[convergent_readthrough['time']==10000.0]['rel_expression'], hist=False,\n",
    "             label='Readthrough')\n",
    "sns.distplot(convergent_no_readthrough[convergent_no_readthrough['time']==10000.0]['rel_expression'], hist=False,\n",
    "             label='No readthrough')\n",
    "plt.xlabel('Relative expression')\n",
    "plt.ylabel('Probability density')\n",
    "plt.legend()\n",
    "plt.savefig('convergent_readthrough.png')"
   ]
  },
  {
   "cell_type": "code",
   "execution_count": null,
   "metadata": {},
   "outputs": [],
   "source": [
    "sns.scatterplot(x=\"RFP_expression\", y=\"mVenus_expression\",\n",
    "                data=convergent_readthrough[convergent_readthrough['time']==10000.0],\n",
    "                alpha=.5, label='Readthrough')\n",
    "sns.scatterplot(x=\"RFP_expression\", y=\"mVenus_expression\",\n",
    "              data=convergent_no_readthrough[convergent_no_readthrough['time']==10000.0],\n",
    "                alpha=.5, label='No readthrough')\n",
    "plt.legend()\n",
    "plt.show()"
   ]
  },
  {
   "cell_type": "code",
   "execution_count": null,
   "metadata": {},
   "outputs": [],
   "source": [
    "(hv.Distribution(convergent_no_readthrough[convergent_no_readthrough['time']==10000.0], 'rel_expression') *\n",
    " hv.Distribution(convergent_readthrough[convergent_readthrough['time']==10000.0], 'rel_expression'))"
   ]
  },
  {
   "cell_type": "code",
   "execution_count": null,
   "metadata": {},
   "outputs": [],
   "source": [
    "sim = ssc_model.SupercoilingSimulation(params, ((0,0), (15000, 0)),[\n",
    "                            (100, 200, 1)])\n",
    "plt.plot(np.linspace(0,20,100), 1 / (1 + np.exp((np.linspace(0,20,100) - 12)/.4)), linewidth=3)\n",
    "plt.plot(np.linspace(0,20,100), 1 / (1 + (np.linspace(0,20,100)/12)**27), '--',linewidth=3)\n",
    "plt.legend(('Exponential', 'Hill coefficent'), prop={'size':13})\n",
    "plt.gca().tick_params(axis = 'both', which = 'major', labelsize = 13)\n",
    "plt.savefig('response_funcs.svg')\n",
    "plt.show()\n",
    "plt.plot(np.linspace(0,.1,100),sim.model.polymerase_velocity(np.zeros((100,)), np.linspace(0,.1,100)), linewidth=3)\n",
    "plt.xlabel('Supercoiling density (unitless)', fontsize=15)\n",
    "plt.ylabel('Polymerase velocity (nm/s)',fontsize=15)\n",
    "plt.gca().tick_params(axis = 'both', which = 'major', labelsize = 13)\n",
    "plt.savefig('polymerase_velocity.svg')\n",
    "plt.show()\n",
    "plt.fill_between([.023, .0765], sim.model.torque_response(np.array([.023, .0765])), alpha=.1, color='k')\n",
    "plt.plot(np.linspace(0,.1,100), sim.model.torque_response(np.linspace(0,.1,100)), linewidth=3)\n",
    "plt.xlabel('Supercoiling density (unitless)', fontsize=15)\n",
    "plt.ylabel('Torque (pN nm)', fontsize=15)\n",
    "plt.gca().tick_params(axis = 'both', which = 'major', labelsize = 13)\n",
    "plt.savefig('torque.svg')\n",
    "plt.show()"
   ]
  },
  {
   "cell_type": "code",
   "execution_count": null,
   "metadata": {},
   "outputs": [],
   "source": []
  }
 ],
 "metadata": {
  "kernelspec": {
   "display_name": "Python 3",
   "language": "python",
   "name": "python3"
  },
  "language_info": {
   "codemirror_mode": {
    "name": "ipython",
    "version": 3
   },
   "file_extension": ".py",
   "mimetype": "text/x-python",
   "name": "python",
   "nbconvert_exporter": "python",
   "pygments_lexer": "ipython3",
   "version": "3.6.9"
  }
 },
 "nbformat": 4,
 "nbformat_minor": 4
}
