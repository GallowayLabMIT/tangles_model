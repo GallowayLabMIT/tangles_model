{
 "cells": [
  {
   "cell_type": "code",
   "execution_count": null,
   "metadata": {},
   "outputs": [],
   "source": [
    "import numpy as np\n",
    "from matplotlib import pyplot as plt\n",
    "import pandas as pd\n",
    "import holoviews as hv\n",
    "hv.extension('bokeh')\n",
    "from holoviews.operation.datashader import datashade\n",
    "\n",
    "import stochastic_sc_model as ssc_model\n",
    "\n",
    "# Ensure we don't hit floating point errors\n",
    "np.seterr('raise')"
   ]
  },
  {
   "cell_type": "markdown",
   "metadata": {},
   "source": [
    "The problem is defined by the location of the currently active polymerases. Each polymerase is characterized by:\n",
    "1. It's location\n",
    "2. The length of the nascent mRNA tail ($x$)\n",
    "3. The DNA twist at this location ($\\phi$)\n",
    "4. The RNAC at this location ($\\theta$)\n",
    "\n",
    "We actually only need to track the first three; the fourth is completely determined by the first three.\n",
    "\n",
    "Given this state information, we can compute the relaxed supercoiling, which in turn gives us information on the "
   ]
  },
  {
   "cell_type": "code",
   "execution_count": null,
   "metadata": {},
   "outputs": [],
   "source": [
    "params = {\n",
    "    'mRNA_drag': 1/20, # pN nm^(alpha / 1)\n",
    "    'mRNA_exponent': 1, # the value of alpha\n",
    "    'DNA_twist_mobility': 10, # s pN nm\n",
    "    'RNAP_radius': 15, # nm\n",
    "    'RNAP_velocity': 20, # nm / s\n",
    "    'RNAP_torque_cutoff': 12, # pN nm\n",
    "    'RNAP_stall_torque_width': 3, #pN\n",
    "    'DNA_force': 1, # pN\n",
    "    'DNA_bend_plength': 50, # pN\n",
    "    'DNA_twist_plength': 95, # pN\n",
    "    'DNA_plectonome_twist_plength': 24, # pN\n",
    "    'temperature': 298, # K\n",
    "    'base_promoter_initiation_rate': 1 / 120, # 1 / sec\n",
    "    'topo_rate': 1 / 1200, # 1 / sec\n",
    "    'mRNA_deg_rate': 1 / 1200 # 1 / sec\n",
    "}"
   ]
  },
  {
   "cell_type": "code",
   "execution_count": null,
   "metadata": {},
   "outputs": [],
   "source": [
    "result = ssc_model.bulk_simulation(params, ('free', (10000, 0)), [(1000, 700, 1), (1700, 1300, 1)],\n",
    "                ['upstream', 'downstream'], (0, 10000, 1000), 100)"
   ]
  },
  {
   "cell_type": "code",
   "execution_count": null,
   "metadata": {},
   "outputs": [],
   "source": [
    "combo_plots = hv.Scatter(result, 'time', 'upstream') * hv.Scatter(result, 'time', 'downstream')\n",
    "datashade(combo_plots)"
   ]
  },
  {
   "cell_type": "code",
   "execution_count": null,
   "metadata": {},
   "outputs": [],
   "source": [
    "sim = SupercoilingSimulation(params, ('free', (10000, 0)), [(1000, 700, 1),  (1700, 1300, 1)])\n",
    "sim.enable_topo_relaxation()"
   ]
  },
  {
   "cell_type": "code",
   "execution_count": null,
   "metadata": {},
   "outputs": [],
   "source": [
    "postprocess['gene_expression'][:,1]"
   ]
  },
  {
   "cell_type": "code",
   "execution_count": null,
   "metadata": {},
   "outputs": [],
   "source": [
    "np.random.seed(1)\n",
    "example_run = sim.simulate((0,10000))\n",
    "for segment in example_run[0]:\n",
    "    plt.plot(segment[0], segment[1][::3,:].T, 'c')"
   ]
  },
  {
   "cell_type": "code",
   "execution_count": null,
   "metadata": {},
   "outputs": [],
   "source": [
    "postprocess = sim.postprocess_run(example_run)"
   ]
  },
  {
   "cell_type": "code",
   "execution_count": null,
   "metadata": {},
   "outputs": [],
   "source": [
    "print(postprocess['time'].shape)\n",
    "print(postprocess['x_domain'].shape)\n",
    "print(postprocess['excess_twist'].shape)\n",
    "print(postprocess['sc_density'].shape)\n",
    "postprocess['gene_expression'].shape"
   ]
  },
  {
   "cell_type": "code",
   "execution_count": null,
   "metadata": {},
   "outputs": [],
   "source": [
    "plt.plot(postprocess['time'], postprocess['gene_expression'])\n",
    "for topo_event in example_run[1]['topo']:\n",
    "    plt.axvline(topo_event)\n",
    "plt.show()\n",
    "plt.imshow(postprocess['excess_twist'].T)\n",
    "plt.colorbar()\n",
    "plt.show()\n",
    "plt.imshow(postprocess['sc_density'].T)\n",
    "plt.colorbar()\n",
    "plt.show()"
   ]
  },
  {
   "cell_type": "code",
   "execution_count": null,
   "metadata": {},
   "outputs": [],
   "source": [
    "plt.plot(np.linspace(0,.05,100),sim.model.polymerase_velocity(np.zeros((100,)), np.linspace(0,.05,100)))\n",
    "plt.show()\n",
    "plt.plot(np.linspace(0,20,100), 1 / (1 + np.exp((np.linspace(0,20,100) - 12)/.1)))\n",
    "plt.show()\n",
    "plt.plot(np.linspace(0,.1,100), sim.model.torque_response(np.linspace(0,.1,100)))"
   ]
  },
  {
   "cell_type": "code",
   "execution_count": null,
   "metadata": {},
   "outputs": [],
   "source": []
  }
 ],
 "metadata": {
  "kernelspec": {
   "display_name": "Python 3",
   "language": "python",
   "name": "python3"
  },
  "language_info": {
   "codemirror_mode": {
    "name": "ipython",
    "version": 3
   },
   "file_extension": ".py",
   "mimetype": "text/x-python",
   "name": "python",
   "nbconvert_exporter": "python",
   "pygments_lexer": "ipython3",
   "version": "3.6.9"
  }
 },
 "nbformat": 4,
 "nbformat_minor": 4
}
