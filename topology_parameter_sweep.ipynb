{
 "metadata": {
  "language_info": {
   "codemirror_mode": {
    "name": "ipython",
    "version": 3
   },
   "file_extension": ".py",
   "mimetype": "text/x-python",
   "name": "python",
   "nbconvert_exporter": "python",
   "pygments_lexer": "ipython3",
   "version": "3.7.4-final"
  },
  "orig_nbformat": 2,
  "kernelspec": {
   "name": "python_defaultSpec_1597352264546",
   "display_name": "Python 3.7.4 64-bit ('env': venv)"
  }
 },
 "nbformat": 4,
 "nbformat_minor": 2,
 "cells": [
  {
   "cell_type": "code",
   "execution_count": 4,
   "metadata": {},
   "outputs": [],
   "source": [
    "import numpy as np\n",
    "from matplotlib import pyplot as plt\n",
    "from matplotlib.collections import LineCollection\n",
    "import pandas as pd\n",
    "import bokeh\n",
    "import bokeh.plotting\n",
    "import bokeh.palettes\n",
    "import bokeh.models\n",
    "import scipy\n",
    "\n",
    "import stochastic_sc_model as ssc_model\n",
    "\n",
    "# Ensure we don't hit floating point errors\n",
    "np.seterr('raise')\n",
    "np.seterr(under='ignore')\n",
    "\n",
    "colors20 = bokeh.palettes.d3['Category20'][20]"
   ]
  },
  {
   "cell_type": "code",
   "execution_count": 5,
   "metadata": {},
   "outputs": [],
   "source": [
    "params = {\n",
    "    'mRNA_drag': 1/20, # pN nm^(alpha / 1)\n",
    "    'mRNA_exponent': 1, # the value of alpha\n",
    "    'DNA_twist_mobility': 10, # s pN nm\n",
    "    'RNAP_radius': 15, # nm\n",
    "    'RNAP_velocity': 20, # nm / s\n",
    "    'RNAP_torque_cutoff': 12, # pN nm\n",
    "    'RNAP_stall_torque_width': 3, #pN\n",
    "    'DNA_force': 1, # pN\n",
    "    'DNA_bend_plength': 50, # pN\n",
    "    'DNA_twist_plength': 95, # pN\n",
    "    'DNA_plectonome_twist_plength': 24, # pN\n",
    "    'temperature': 298, # K\n",
    "    'base_promoter_initiation_rate': 1 / 120, # 1 / sec\n",
    "    'topo_rate': 1 / 1200, # 1 / sec\n",
    "    'mRNA_deg_rate': 1 / 1200 # 1 / sec\n",
    "}"
   ]
  },
  {
   "cell_type": "code",
   "execution_count": 53,
   "metadata": {},
   "outputs": [],
   "source": [
    "def bulk_topology_simulation(geometry, dx_in_bp, expression_levels, simtime, n_simulations):\n",
    "    \"\"\"\n",
    "    For a given gene geometry, with a interleaving space, runs a series of bulk simulations and\n",
    "    returns the output dataframe.\n",
    "    \n",
    "    Args:\n",
    "    -----\n",
    "    geometry: A string containing:\n",
    "        'tandem': Both gene A and B face from left to right: A-> |dx| B->\n",
    "        'convergent': Gene A and B face each other: A-> |dx| <-B\n",
    "        'divergent': Gene A and B face away from each other: <-A |dx| B->\n",
    "    dx_in_bp: The inter-gene spacing in base pairs.\n",
    "    expression_levels: A tuple containing expression levels for genes A and B.\n",
    "    simtime: The amount of time to run the simulation for.\n",
    "    n_simulations: The number of simulations to run\n",
    "\n",
    "    Returns:\n",
    "    --------\n",
    "    A list of summary values, which are [geometry, dx_in_bp, A_expression, A_mean, A_std, A_fano, B_mean, B_std, B_fano]\n",
    "    \"\"\"\n",
    "    endcap_distances = 3000 * .34\n",
    "    gene_distance = 2000 * .34\n",
    "    dx = dx_in_bp * .34\n",
    "    \n",
    "    gene_A_boundaries = (endcap_distances, endcap_distances + gene_distance)\n",
    "    gene_B_boundaries = (gene_A_boundaries[1] + dx, gene_A_boundaries[1] + dx + gene_distance)\n",
    "    end_barrier = gene_B_boundaries[1] + endcap_distances\n",
    "    \n",
    "    barriers = ((0,0), (end_barrier, 0))\n",
    "    genes = []\n",
    "    # Gene A faces to the right if tandem/convergent, otherwise left for divergent\n",
    "    genes.append((gene_A_boundaries[1], gene_A_boundaries[0], expression_levels[0], 'A')\n",
    "                 if geometry == 'divergent' else\n",
    "                 (gene_A_boundaries[0], gene_A_boundaries[1], expression_levels[0], 'A'))\n",
    "    # Gene B faces to the right except in the convergent case\n",
    "    genes.append((gene_B_boundaries[1], gene_B_boundaries[0], expression_levels[1], 'B')\n",
    "                 if geometry == 'convergent' else\n",
    "                 (gene_B_boundaries[0], gene_B_boundaries[1], expression_levels[1], 'B'))\n",
    "    \n",
    "    raw_data = ssc_model.bulk_simulation(params, barriers, genes, ['A', 'B'], (0, simtime, 1000), n_simulations)\n",
    "    mean_data = raw_data.groupby('time').mean().reset_index()\n",
    "    mean_data = mean_data[mean_data['time']==simtime]\n",
    "    std_data = raw_data.groupby('time').std().reset_index()\n",
    "    std_data = std_data[std_data['time']==simtime]\n",
    "    var_data = raw_data.groupby('time').var().reset_index()\n",
    "    var_data = var_data[var_data['time']==simtime]\n",
    "\n",
    "    return [geometry, dx_in_bp, expression_levels[0], expression_levels[1],\n",
    "            mean_data['A_expression'].iloc[0], std_data['A_expression'].iloc[0],\n",
    "            var_data['A_expression'].iloc[0] / mean_data['A_expression'].iloc[0],\n",
    "            mean_data['B_expression'].iloc[0], std_data['B_expression'].iloc[0],\n",
    "            var_data['B_expression'].iloc[0] / mean_data['B_expression'].iloc[0]]"
   ]
  },
  {
   "cell_type": "code",
   "execution_count": 54,
   "metadata": {
    "tags": []
   },
   "outputs": [
    {
     "output_type": "error",
     "ename": "AttributeError",
     "evalue": "'list' object has no attribute 'to_feather'",
     "traceback": [
      "\u001b[1;31m---------------------------------------------------------------------------\u001b[0m",
      "\u001b[1;31mAttributeError\u001b[0m                            Traceback (most recent call last)",
      "\u001b[1;32m<ipython-input-54-2620fbca5982>\u001b[0m in \u001b[0;36m<module>\u001b[1;34m\u001b[0m\n\u001b[0;32m      1\u001b[0m \u001b[0mtandem_data\u001b[0m \u001b[1;33m=\u001b[0m \u001b[0mbulk_topology_simulation\u001b[0m\u001b[1;33m(\u001b[0m\u001b[1;34m'convergent'\u001b[0m\u001b[1;33m,\u001b[0m \u001b[1;36m400\u001b[0m\u001b[1;33m,\u001b[0m \u001b[1;33m(\u001b[0m\u001b[1;36m1\u001b[0m\u001b[1;33m,\u001b[0m \u001b[1;36m1\u001b[0m\u001b[1;33m)\u001b[0m\u001b[1;33m,\u001b[0m \u001b[1;36m12000\u001b[0m\u001b[1;33m,\u001b[0m \u001b[1;36m2\u001b[0m\u001b[1;33m)\u001b[0m\u001b[1;33m\u001b[0m\u001b[1;33m\u001b[0m\u001b[0m\n\u001b[1;32m----> 2\u001b[1;33m \u001b[0mtandem_data\u001b[0m\u001b[1;33m.\u001b[0m\u001b[0mto_feather\u001b[0m\u001b[1;33m(\u001b[0m\u001b[1;34m'test.feather'\u001b[0m\u001b[1;33m)\u001b[0m\u001b[1;33m\u001b[0m\u001b[1;33m\u001b[0m\u001b[0m\n\u001b[0m",
      "\u001b[1;31mAttributeError\u001b[0m: 'list' object has no attribute 'to_feather'"
     ]
    }
   ],
   "source": [
    "tandem_data = bulk_topology_simulation('convergent', 400, (1, 1), 12000, 2)\n",
    "tandem_data.to_feather('test.feather')"
   ]
  },
  {
   "cell_type": "code",
   "execution_count": null,
   "metadata": {},
   "outputs": [],
   "source": []
  }
 ]
}